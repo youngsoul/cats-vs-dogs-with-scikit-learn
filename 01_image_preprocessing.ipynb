{
 "cells": [
  {
   "cell_type": "markdown",
   "id": "9b8b1293aab01931",
   "metadata": {},
   "source": [
    "# Cats vs Dogs Image DataSet Preprocessing"
   ]
  },
  {
   "cell_type": "markdown",
   "id": "81373efaf90b6786",
   "metadata": {},
   "source": [
    "In this notebook, we will be preprocessing the images to run through a pipeline that will scale and convert each image to a vector embedding using the `embetter package` `ClipEncoder` class.\n",
    "\n",
    "The `ClipEncoder` will convert the image to vector of 512 values.  Much like converting text or text phrases into an encoded vector the same approach will be taken with the images.\n",
    "\n",
    "The encoded image data will then be saved and that data will be used in subsequent notebooks to train scikit-learn machine learning models to perform the cat vs dog classification."
   ]
  },
  {
   "cell_type": "markdown",
   "id": "a9069a739c4a00b3",
   "metadata": {},
   "source": [
    "The dataset is the kaggle `Cats-vs-Dogs` dataset that can be found in this repo or on the Kaggle website at:\n",
    "\n",
    "https://www.kaggle.com/datasets/shaunthesheep/microsoft-catsvsdogs-dataset"
   ]
  },
  {
   "cell_type": "markdown",
   "id": "58b34ff4-75d6-4a42-96e3-4a4e12f9c1e6",
   "metadata": {},
   "source": [
    "### CLIP ( Contrastive Language–Image Pretraining ) Background Information\n",
    "\n",
    "**What is a CLIP encoder?**\n",
    "CLIP stands for Contrastive Language–Image Pretraining. It’s a model made by OpenAI that can understand both images and text, and match them to each other. So, if you show CLIP a picture of a dog and the word “dog,” it will know they go together.\n",
    "\n",
    "CLIP uses two main parts:\n",
    "\n",
    "An image encoder – that looks at an image and turns it into numbers (called an embedding).\n",
    "A text encoder – that does the same thing for text.\n",
    "\n",
    "**What does it mean to \"encode\" an image?**\n",
    "When we encode an image, we’re turning it into a list of numbers that represents the important stuff about the image—kind of like its fingerprint.\n",
    "\n",
    "This list of numbers is called a vector or embedding. It's like a summary of the image that CLIP can use to compare it with other images or text.\n",
    "\n",
    "Think of it like this:\n",
    "\n",
    "Imagine you take a picture of a cat.\n",
    "The CLIP image encoder looks at that picture and gives you a list of, say, 512 numbers.\n",
    "These numbers don't look like much to us, but to the model, they capture key features like shapes, colors, and what objects are in the image.\n",
    "\n",
    "**What does the output represent?**\n",
    "The output is a list of numbers (a vector)—for example:\n",
    "\n",
    "[0.12, -0.58, 0.33, ..., 0.05]  ← 512 numbers\n",
    "Each number in that list represents a different feature or pattern in the image. Alone, they don’t mean much to humans, but together, they help the computer know what’s in the image.\n",
    "\n",
    "**For example:**\n",
    "\n",
    "Similar images (like two pictures of dogs) will have similar vectors.\n",
    "Different images (like a dog vs. a car) will have different vectors.\n",
    "\n",
    "**Why is this useful?**\n",
    "Because once an image is a vector:\n",
    "\n",
    "You can compare it with text vectors (like the word \"cat\" or \"dog\").\n",
    "You can search for images that are similar.\n",
    "You can do things like captioning, clustering, or even generating images based on text.\n",
    "\n",
    "**Summary**\n",
    "A CLIP encoder turns images into numbers (vectors).\n",
    "These numbers summarize what’s in the image.\n",
    "They help computers understand and compare images and text—even if the computer has never seen the exact image before.\n",
    "\n",
    "\n",
    "**Here’s how it works:**\n",
    "When you pass an image to CLIP:\n",
    "\n",
    "The image is loaded (usually as pixels).\n",
    "It’s resized and preprocessed (to match what CLIP expects—like 224×224 pixels).\n",
    "Then it's passed through the image encoder (like a modified ResNet or Vision Transformer).\n",
    "The encoder outputs a vector of numbers (the embedding) that represents only the visual content of the image.\n"
   ]
  },
  {
   "cell_type": "markdown",
   "id": "1c26177f-8016-4def-9b65-3780ae9abd6c",
   "metadata": {},
   "source": [
    "### Directory Structure\n",
    "\n",
    "root_dir\n",
    "\n",
    "    - data ( images from the kaggle dataset.  The directories have been renamed from the original download )\n",
    "     \n",
    "         - cats\n",
    "     \n",
    "         - dogs\n",
    "    \n",
    "    - holdout ( 20 samples of cats and dogs were removed from the original dataset to test after the model has been trained )\n",
    "\n",
    "        - cats\n",
    "\n",
    "        - dogs\n",
    "\n",
    "    - models\n",
    "        ( where trained models will be stored )\n",
    "        \n",
    "    - preprocessed_data\n",
    "        ( where intermediate preprocessed files will be stored )\n",
    "        "
   ]
  },
  {
   "cell_type": "code",
   "execution_count": 1,
   "id": "fe1cba6c857c471a",
   "metadata": {
    "ExecuteTime": {
     "end_time": "2025-05-22T01:00:06.070932Z",
     "start_time": "2025-05-22T01:00:02.885021Z"
    }
   },
   "outputs": [],
   "source": [
    "from sklearn.preprocessing import StandardScaler\n",
    "from sklearn.pipeline import make_pipeline\n",
    "from embetter.vision import ImageLoader\n",
    "from embetter.multi import ClipEncoder\n",
    "from embetter.grab import ColumnGrabber\n",
    "import pandas as pd\n",
    "from pathlib import Path\n",
    "import json"
   ]
  },
  {
   "cell_type": "markdown",
   "id": "70d3849998f1560c",
   "metadata": {},
   "source": [
    "## Create Pandas DataFrame of filepaths and labels\n",
    "\n",
    "Function will review the files in the `data` directory and return a pandas DataFrame with 2 columns:\n",
    "\n",
    "* filepaths\n",
    "* target name ( e.g. cat or dog )"
   ]
  },
  {
   "cell_type": "code",
   "execution_count": 2,
   "id": "6e78ae0e-b40b-449f-a68a-188b529e23ee",
   "metadata": {},
   "outputs": [],
   "source": [
    "dirs = ['cats', 'dogs']\n",
    "\n",
    "# root_dir = '/Users/patrickryan/Development/machinelearning/scikit-learn/cats-vs-dogs-with-scikit-learn'\n",
    "\n",
    "\n",
    "root_dir = '/Volumes/TheVault/ml_datasets/kaggle/cats-vs-dogs'\n"
   ]
  },
  {
   "cell_type": "code",
   "execution_count": 3,
   "id": "b71943cc444233a2",
   "metadata": {
    "ExecuteTime": {
     "end_time": "2025-05-22T01:00:06.083148Z",
     "start_time": "2025-05-22T01:00:06.080722Z"
    }
   },
   "outputs": [],
   "source": [
    "def create_filepaths_df(dir_name:str) -> pd.DataFrame:\n",
    "    \n",
    "    data = []\n",
    "    for dir in dirs:\n",
    "        for file in Path(f'{root_dir}/{dir_name}/{dir}').glob('*.jpg'):\n",
    "            row_data = {\n",
    "                'filepath': file,\n",
    "                'target': dir\n",
    "            }\n",
    "            data.append(row_data)\n",
    "    files_df = pd.DataFrame(data, columns=[\"filepath\", \"target\"])\n",
    "    return files_df\n"
   ]
  },
  {
   "cell_type": "code",
   "execution_count": 4,
   "id": "b56a3325f2e02e44",
   "metadata": {
    "ExecuteTime": {
     "end_time": "2025-05-22T01:00:06.123111Z",
     "start_time": "2025-05-22T01:00:06.087665Z"
    }
   },
   "outputs": [],
   "source": [
    "files_df = create_filepaths_df(dir_name='data')"
   ]
  },
  {
   "cell_type": "code",
   "execution_count": 5,
   "id": "a72c07be-93a0-4f30-bc7a-1e03d21a7eb4",
   "metadata": {
    "ExecuteTime": {
     "end_time": "2025-05-22T01:00:06.222087Z",
     "start_time": "2025-05-22T01:00:06.217826Z"
    }
   },
   "outputs": [
    {
     "data": {
      "text/html": [
       "<div>\n",
       "<style scoped>\n",
       "    .dataframe tbody tr th:only-of-type {\n",
       "        vertical-align: middle;\n",
       "    }\n",
       "\n",
       "    .dataframe tbody tr th {\n",
       "        vertical-align: top;\n",
       "    }\n",
       "\n",
       "    .dataframe thead th {\n",
       "        text-align: right;\n",
       "    }\n",
       "</style>\n",
       "<table border=\"1\" class=\"dataframe\">\n",
       "  <thead>\n",
       "    <tr style=\"text-align: right;\">\n",
       "      <th></th>\n",
       "      <th>filepath</th>\n",
       "      <th>target</th>\n",
       "    </tr>\n",
       "  </thead>\n",
       "  <tbody>\n",
       "    <tr>\n",
       "      <th>0</th>\n",
       "      <td>/Volumes/TheVault/ml_datasets/kaggle/cats-vs-d...</td>\n",
       "      <td>cats</td>\n",
       "    </tr>\n",
       "    <tr>\n",
       "      <th>1</th>\n",
       "      <td>/Volumes/TheVault/ml_datasets/kaggle/cats-vs-d...</td>\n",
       "      <td>cats</td>\n",
       "    </tr>\n",
       "    <tr>\n",
       "      <th>2</th>\n",
       "      <td>/Volumes/TheVault/ml_datasets/kaggle/cats-vs-d...</td>\n",
       "      <td>cats</td>\n",
       "    </tr>\n",
       "    <tr>\n",
       "      <th>3</th>\n",
       "      <td>/Volumes/TheVault/ml_datasets/kaggle/cats-vs-d...</td>\n",
       "      <td>cats</td>\n",
       "    </tr>\n",
       "    <tr>\n",
       "      <th>4</th>\n",
       "      <td>/Volumes/TheVault/ml_datasets/kaggle/cats-vs-d...</td>\n",
       "      <td>cats</td>\n",
       "    </tr>\n",
       "  </tbody>\n",
       "</table>\n",
       "</div>"
      ],
      "text/plain": [
       "                                            filepath target\n",
       "0  /Volumes/TheVault/ml_datasets/kaggle/cats-vs-d...   cats\n",
       "1  /Volumes/TheVault/ml_datasets/kaggle/cats-vs-d...   cats\n",
       "2  /Volumes/TheVault/ml_datasets/kaggle/cats-vs-d...   cats\n",
       "3  /Volumes/TheVault/ml_datasets/kaggle/cats-vs-d...   cats\n",
       "4  /Volumes/TheVault/ml_datasets/kaggle/cats-vs-d...   cats"
      ]
     },
     "execution_count": 5,
     "metadata": {},
     "output_type": "execute_result"
    }
   ],
   "source": [
    "files_df.head()"
   ]
  },
  {
   "cell_type": "code",
   "execution_count": 6,
   "id": "6ce85dca-29a1-4101-bdd5-b49f6f17e70a",
   "metadata": {},
   "outputs": [
    {
     "data": {
      "text/html": [
       "<div>\n",
       "<style scoped>\n",
       "    .dataframe tbody tr th:only-of-type {\n",
       "        vertical-align: middle;\n",
       "    }\n",
       "\n",
       "    .dataframe tbody tr th {\n",
       "        vertical-align: top;\n",
       "    }\n",
       "\n",
       "    .dataframe thead th {\n",
       "        text-align: right;\n",
       "    }\n",
       "</style>\n",
       "<table border=\"1\" class=\"dataframe\">\n",
       "  <thead>\n",
       "    <tr style=\"text-align: right;\">\n",
       "      <th></th>\n",
       "      <th>filepath</th>\n",
       "      <th>target</th>\n",
       "    </tr>\n",
       "  </thead>\n",
       "  <tbody>\n",
       "    <tr>\n",
       "      <th>24953</th>\n",
       "      <td>/Volumes/TheVault/ml_datasets/kaggle/cats-vs-d...</td>\n",
       "      <td>dogs</td>\n",
       "    </tr>\n",
       "    <tr>\n",
       "      <th>24954</th>\n",
       "      <td>/Volumes/TheVault/ml_datasets/kaggle/cats-vs-d...</td>\n",
       "      <td>dogs</td>\n",
       "    </tr>\n",
       "    <tr>\n",
       "      <th>24955</th>\n",
       "      <td>/Volumes/TheVault/ml_datasets/kaggle/cats-vs-d...</td>\n",
       "      <td>dogs</td>\n",
       "    </tr>\n",
       "    <tr>\n",
       "      <th>24956</th>\n",
       "      <td>/Volumes/TheVault/ml_datasets/kaggle/cats-vs-d...</td>\n",
       "      <td>dogs</td>\n",
       "    </tr>\n",
       "    <tr>\n",
       "      <th>24957</th>\n",
       "      <td>/Volumes/TheVault/ml_datasets/kaggle/cats-vs-d...</td>\n",
       "      <td>dogs</td>\n",
       "    </tr>\n",
       "  </tbody>\n",
       "</table>\n",
       "</div>"
      ],
      "text/plain": [
       "                                                filepath target\n",
       "24953  /Volumes/TheVault/ml_datasets/kaggle/cats-vs-d...   dogs\n",
       "24954  /Volumes/TheVault/ml_datasets/kaggle/cats-vs-d...   dogs\n",
       "24955  /Volumes/TheVault/ml_datasets/kaggle/cats-vs-d...   dogs\n",
       "24956  /Volumes/TheVault/ml_datasets/kaggle/cats-vs-d...   dogs\n",
       "24957  /Volumes/TheVault/ml_datasets/kaggle/cats-vs-d...   dogs"
      ]
     },
     "execution_count": 6,
     "metadata": {},
     "output_type": "execute_result"
    }
   ],
   "source": [
    "files_df.tail()"
   ]
  },
  {
   "cell_type": "markdown",
   "id": "490cd11a9683fb57",
   "metadata": {},
   "source": [
    "### Save files_df to the preprocessing directory\n",
    "\n"
   ]
  },
  {
   "cell_type": "code",
   "execution_count": 7,
   "id": "a711ebbf-0f74-4be2-a6a0-2056d11c897c",
   "metadata": {
    "ExecuteTime": {
     "end_time": "2025-05-22T01:00:06.258095Z",
     "start_time": "2025-05-22T01:00:06.232765Z"
    }
   },
   "outputs": [],
   "source": [
    "files_df.to_csv(f\"{root_dir}/preprocessed_data/files_data.csv\", index=False)"
   ]
  },
  {
   "cell_type": "markdown",
   "id": "13da7c64-9a0f-466f-8273-02d872d4ba0f",
   "metadata": {},
   "source": [
    "## Convert Image files to Image embeddings "
   ]
  },
  {
   "cell_type": "code",
   "execution_count": 8,
   "id": "c6046d18-cab5-4307-ad70-6c56e14855a9",
   "metadata": {
    "ExecuteTime": {
     "end_time": "2025-05-22T01:00:07.758618Z",
     "start_time": "2025-05-22T01:00:06.358264Z"
    }
   },
   "outputs": [
    {
     "name": "stderr",
     "output_type": "stream",
     "text": [
      "Using a slow image processor as `use_fast` is unset and a slow processor was saved with this model. `use_fast=True` will be the default behavior in v4.52, even if the model was saved with a slow processor. This will result in minor differences in outputs. You'll still be able to use a slow processor with `use_fast=False`.\n"
     ]
    }
   ],
   "source": [
    "# Image Embedding Pipeline\n",
    "image_embedding_pipeline = make_pipeline(\n",
    "   ColumnGrabber(\"filepath\"),\n",
    "  ImageLoader(convert=\"RGB\"),\n",
    "  ClipEncoder(),\n",
    ")"
   ]
  },
  {
   "cell_type": "code",
   "execution_count": 9,
   "id": "a9f882f6-75c6-4892-9a5e-52fa07dbbb0b",
   "metadata": {
    "ExecuteTime": {
     "end_time": "2025-05-22T01:00:07.792473Z",
     "start_time": "2025-05-22T01:00:07.780839Z"
    }
   },
   "outputs": [],
   "source": [
    "df = pd.read_csv(f\"{root_dir}/preprocessed_data/files_data.csv\")"
   ]
  },
  {
   "cell_type": "code",
   "execution_count": 10,
   "id": "226a0c2d-2ef0-4f2f-96b5-5b6dab5b6ffd",
   "metadata": {
    "ExecuteTime": {
     "end_time": "2025-05-22T01:00:07.817608Z",
     "start_time": "2025-05-22T01:00:07.815055Z"
    }
   },
   "outputs": [
    {
     "data": {
      "text/html": [
       "<div>\n",
       "<style scoped>\n",
       "    .dataframe tbody tr th:only-of-type {\n",
       "        vertical-align: middle;\n",
       "    }\n",
       "\n",
       "    .dataframe tbody tr th {\n",
       "        vertical-align: top;\n",
       "    }\n",
       "\n",
       "    .dataframe thead th {\n",
       "        text-align: right;\n",
       "    }\n",
       "</style>\n",
       "<table border=\"1\" class=\"dataframe\">\n",
       "  <thead>\n",
       "    <tr style=\"text-align: right;\">\n",
       "      <th></th>\n",
       "      <th>filepath</th>\n",
       "      <th>target</th>\n",
       "    </tr>\n",
       "  </thead>\n",
       "  <tbody>\n",
       "    <tr>\n",
       "      <th>0</th>\n",
       "      <td>/Volumes/TheVault/ml_datasets/kaggle/cats-vs-d...</td>\n",
       "      <td>cats</td>\n",
       "    </tr>\n",
       "    <tr>\n",
       "      <th>1</th>\n",
       "      <td>/Volumes/TheVault/ml_datasets/kaggle/cats-vs-d...</td>\n",
       "      <td>cats</td>\n",
       "    </tr>\n",
       "    <tr>\n",
       "      <th>2</th>\n",
       "      <td>/Volumes/TheVault/ml_datasets/kaggle/cats-vs-d...</td>\n",
       "      <td>cats</td>\n",
       "    </tr>\n",
       "    <tr>\n",
       "      <th>3</th>\n",
       "      <td>/Volumes/TheVault/ml_datasets/kaggle/cats-vs-d...</td>\n",
       "      <td>cats</td>\n",
       "    </tr>\n",
       "    <tr>\n",
       "      <th>4</th>\n",
       "      <td>/Volumes/TheVault/ml_datasets/kaggle/cats-vs-d...</td>\n",
       "      <td>cats</td>\n",
       "    </tr>\n",
       "  </tbody>\n",
       "</table>\n",
       "</div>"
      ],
      "text/plain": [
       "                                            filepath target\n",
       "0  /Volumes/TheVault/ml_datasets/kaggle/cats-vs-d...   cats\n",
       "1  /Volumes/TheVault/ml_datasets/kaggle/cats-vs-d...   cats\n",
       "2  /Volumes/TheVault/ml_datasets/kaggle/cats-vs-d...   cats\n",
       "3  /Volumes/TheVault/ml_datasets/kaggle/cats-vs-d...   cats\n",
       "4  /Volumes/TheVault/ml_datasets/kaggle/cats-vs-d...   cats"
      ]
     },
     "execution_count": 10,
     "metadata": {},
     "output_type": "execute_result"
    }
   ],
   "source": [
    "df.head()"
   ]
  },
  {
   "cell_type": "markdown",
   "id": "7f990472-bf1e-4337-8e72-fa1af316463c",
   "metadata": {},
   "source": [
    "### Create the CLIP embbedding for each image"
   ]
  },
  {
   "cell_type": "code",
   "execution_count": 11,
   "id": "17e646fe-9c5d-4bea-82e9-2c4366260bed",
   "metadata": {
    "ExecuteTime": {
     "end_time": "2025-05-22T01:01:55.744950Z",
     "start_time": "2025-05-22T01:00:07.861300Z"
    }
   },
   "outputs": [
    {
     "name": "stderr",
     "output_type": "stream",
     "text": [
      "/Users/patrickryan/Development/machinelearning/scikit-learn/cats-vs-dogs-with-scikit-learn/.venv/lib/python3.11/site-packages/PIL/TiffImagePlugin.py:950: UserWarning: Truncated File Read\n",
      "  warnings.warn(str(msg))\n"
     ]
    },
    {
     "name": "stdout",
     "output_type": "stream",
     "text": [
      "CPU times: user 1min 10s, sys: 6.34 s, total: 1min 16s\n",
      "Wall time: 1min 50s\n"
     ]
    }
   ],
   "source": [
    "%%time\n",
    "\n",
    "X = image_embedding_pipeline.fit_transform(df)"
   ]
  },
  {
   "cell_type": "code",
   "execution_count": 12,
   "id": "67d27302-159b-4ebe-a803-2b62ee84a213",
   "metadata": {
    "ExecuteTime": {
     "end_time": "2025-05-22T01:01:55.779709Z",
     "start_time": "2025-05-22T01:01:55.777433Z"
    }
   },
   "outputs": [
    {
     "data": {
      "text/plain": [
       "(24958, 512)"
      ]
     },
     "execution_count": 12,
     "metadata": {},
     "output_type": "execute_result"
    }
   ],
   "source": [
    "X.shape"
   ]
  },
  {
   "cell_type": "code",
   "execution_count": 13,
   "id": "08423c1a-c8bc-47b2-857c-226f28c8e65d",
   "metadata": {
    "ExecuteTime": {
     "end_time": "2025-05-22T01:01:55.853500Z",
     "start_time": "2025-05-22T01:01:55.850933Z"
    }
   },
   "outputs": [
    {
     "data": {
      "text/plain": [
       "numpy.ndarray"
      ]
     },
     "execution_count": 13,
     "metadata": {},
     "output_type": "execute_result"
    }
   ],
   "source": [
    "type(X)"
   ]
  },
  {
   "cell_type": "code",
   "execution_count": 14,
   "id": "d33fad10-7e32-4756-af4d-e38e35a9056a",
   "metadata": {
    "ExecuteTime": {
     "end_time": "2025-05-22T01:01:55.878055Z",
     "start_time": "2025-05-22T01:01:55.875628Z"
    }
   },
   "outputs": [],
   "source": [
    "y = df['target']"
   ]
  },
  {
   "cell_type": "code",
   "execution_count": 15,
   "id": "fd232497-5424-4a3d-b31b-5a94cf430d0b",
   "metadata": {
    "ExecuteTime": {
     "end_time": "2025-05-22T01:01:55.896499Z",
     "start_time": "2025-05-22T01:01:55.894044Z"
    }
   },
   "outputs": [
    {
     "data": {
      "text/plain": [
       "pandas.core.series.Series"
      ]
     },
     "execution_count": 15,
     "metadata": {},
     "output_type": "execute_result"
    }
   ],
   "source": [
    "type(y)"
   ]
  },
  {
   "cell_type": "code",
   "execution_count": 16,
   "id": "ead173f1-130e-446c-a6d3-87c54f4e8e3b",
   "metadata": {
    "ExecuteTime": {
     "end_time": "2025-05-22T01:01:55.939676Z",
     "start_time": "2025-05-22T01:01:55.935489Z"
    }
   },
   "outputs": [
    {
     "data": {
      "text/plain": [
       "array([[-4.27153111e-02, -6.16295636e-02, -1.19786978e-01,\n",
       "         3.06515515e-01,  2.66768724e-01, -1.00176424e-01,\n",
       "        -1.45210430e-01, -9.61131752e-02,  8.40345800e-01,\n",
       "        -4.60286072e-04,  4.09363389e-01, -1.17742501e-01,\n",
       "         5.10108352e-01, -2.72414893e-01,  4.07326035e-02,\n",
       "         1.02416284e-01,  9.01596487e-01, -5.85524812e-02,\n",
       "         3.55524927e-01, -4.31637242e-02,  1.78646296e-01,\n",
       "         3.30819309e-01,  6.35441959e-01, -3.41306478e-01,\n",
       "        -2.18503237e-01,  1.85449734e-01,  2.55678535e-01,\n",
       "        -1.89959839e-01, -1.61174178e-01, -1.36801600e-01,\n",
       "        -2.57087767e-01,  2.99870789e-01,  1.54347807e-01,\n",
       "         2.33616084e-02,  5.55954993e-01,  3.92032206e-01,\n",
       "         2.89443940e-01, -9.27947909e-02, -5.74937873e-02,\n",
       "         1.71408629e+00,  1.49413392e-01, -6.02799177e-01,\n",
       "        -1.26615927e-01,  8.28924328e-02,  3.23446393e-01,\n",
       "        -4.56805229e-02,  4.43084687e-01, -5.90242334e-02,\n",
       "        -2.15918213e-01,  1.73231140e-01,  7.36892968e-02,\n",
       "         2.42774040e-01,  1.87292576e-01,  1.17268115e-01,\n",
       "         1.94877103e-01,  5.03335238e-01,  2.15388477e-01,\n",
       "         5.59579372e-01,  2.40994945e-01, -4.07342128e-02,\n",
       "         8.87895405e-01, -9.31545421e-02,  1.35819644e-01,\n",
       "         1.86981499e-01, -3.88801843e-01, -3.43956023e-01,\n",
       "         4.94298875e-01, -2.28994563e-01, -3.18269283e-01,\n",
       "         1.60411164e-01,  2.30512440e-01, -6.36929199e-02,\n",
       "        -3.08962196e-01, -1.23612806e-01, -2.86886483e-01,\n",
       "        -1.55666336e-01,  3.33599955e-01, -5.33614278e-01,\n",
       "        -4.61680777e-02,  1.00239940e-01,  2.42288351e-01,\n",
       "        -4.67835665e-01, -3.34192216e-01, -4.19411153e-01,\n",
       "         2.17196122e-02, -2.00583071e-01,  1.08539975e+00,\n",
       "        -5.07167637e-01,  3.15143526e-01,  9.02217999e-02,\n",
       "        -5.80029003e-02, -6.13234460e-01, -6.73814011e+00,\n",
       "         1.60660803e-01, -1.94794685e-01,  5.65072522e-02,\n",
       "         2.37636551e-01, -9.06509161e-01, -1.11712480e+00,\n",
       "         1.25480950e+00, -5.40967397e-02, -3.35524559e-01,\n",
       "        -3.24340095e-03,  9.34414007e-03,  2.99545884e-01,\n",
       "         8.93749595e-02,  9.79147851e-01, -4.08360809e-02,\n",
       "        -3.66851896e-01, -1.27861261e-01, -2.25881655e-02,\n",
       "        -6.79731548e-01,  2.67187655e-01, -1.20102763e-01,\n",
       "         2.87645042e-01,  9.51878950e-02, -3.80781919e-01,\n",
       "        -1.35733485e-01,  6.66022375e-02,  4.02521938e-02,\n",
       "         1.91411093e-01, -7.54207492e-01,  6.83606882e-03,\n",
       "        -2.62442529e-01,  2.48391688e-01, -7.23482370e-01,\n",
       "        -1.29968256e-01,  4.65542942e-01,  2.93830484e-01,\n",
       "         2.20811605e-01,  2.83928931e-01,  1.18251830e-01,\n",
       "        -2.17555702e-01,  8.33160520e-01, -9.81220379e-02,\n",
       "        -5.03014661e-02,  6.36778120e-03, -6.28393948e-01,\n",
       "        -4.35406685e-01, -1.64500009e-02,  6.11961365e-01,\n",
       "        -1.83755204e-01, -6.68879151e-02, -4.36009169e-02,\n",
       "        -9.67050716e-02,  4.81018126e-01,  2.31560424e-01,\n",
       "        -4.65171039e-01, -2.15245783e-02,  9.49970260e-02,\n",
       "        -2.95724213e-01,  3.00666571e-01, -5.74346066e-01,\n",
       "        -9.78489295e-02, -1.99537531e-01, -1.02506079e-01,\n",
       "        -4.23251092e-01, -2.48978436e-01, -2.42206335e-01,\n",
       "        -2.22604245e-01,  2.66680196e-02,  1.23588182e-01,\n",
       "        -2.55131483e-01,  7.23746568e-02,  1.05618186e-01,\n",
       "        -3.24353904e-01, -1.98051985e-02,  5.98332345e-01,\n",
       "        -1.77611545e-01,  4.03013915e-01, -2.91615874e-01,\n",
       "         4.84688580e-01, -1.07455947e-01, -2.41151139e-01,\n",
       "         1.66711137e-01, -2.06588969e-01,  1.36928773e+00,\n",
       "        -1.33537203e-01,  6.01921201e-01,  1.53781921e-01,\n",
       "         1.17307626e-01, -1.50422499e-01,  2.52574027e-01,\n",
       "         4.19548690e-01,  1.34095950e-02,  2.24615619e-01,\n",
       "         1.25310170e-02,  4.66329157e-02, -1.64999403e-02,\n",
       "        -1.72988653e-01,  7.40941837e-02,  9.80403740e-03,\n",
       "         3.15755218e-01, -1.63658977e-01,  4.14769083e-01,\n",
       "         2.22546950e-01, -1.37580097e-01, -1.88849010e-02,\n",
       "        -1.27707851e+00, -6.11100607e-02,  2.10234616e-03,\n",
       "         1.79561794e-01, -1.70728695e-02, -2.47612387e-01,\n",
       "        -1.63258940e-01, -1.14590064e-01,  1.77619025e-01,\n",
       "        -3.26839805e-01, -6.34031021e-04,  2.59267986e-01,\n",
       "        -2.81984173e-02,  2.26530880e-01, -7.43119791e-02,\n",
       "         2.81342149e-01, -1.48011011e-03, -3.33166867e-01,\n",
       "         2.59281009e-01, -1.67818829e-01,  1.07269526e+00,\n",
       "        -4.37785953e-01,  7.15272367e-01,  4.38755959e-01,\n",
       "        -1.05635084e-01, -3.32720160e-01, -1.01424351e-01,\n",
       "         2.68355966e-01, -1.06782004e-01, -1.72648393e-02,\n",
       "        -6.63114786e-01, -2.59356558e-01,  5.00950776e-02,\n",
       "        -5.78354597e-01, -3.57968330e-01,  4.96550173e-01,\n",
       "         1.21439798e-02,  9.09261107e-01, -1.96772829e-01,\n",
       "         1.95092201e-01,  3.95431459e-01, -3.51725221e-01,\n",
       "         2.94943303e-01, -6.15576878e-02,  1.44065186e-01,\n",
       "        -2.71217942e-01, -1.21697165e-01,  7.09592760e-01,\n",
       "         3.73461604e-01, -6.82048738e-01,  2.85237283e-02,\n",
       "        -6.09927205e-03,  4.65432182e-02, -2.24470168e-01,\n",
       "        -1.15944758e-01,  2.35494405e-01,  3.09033155e-01,\n",
       "         1.38157010e-01, -4.42073971e-01, -9.22926590e-02,\n",
       "        -2.92728037e-01, -6.02225304e-01, -8.50694254e-03,\n",
       "        -1.72182798e-01, -5.02322614e-01, -1.50109792e+00,\n",
       "        -9.92282778e-02, -2.03884482e-01,  1.61087766e-01,\n",
       "        -3.37867379e-01,  6.96665123e-02, -6.22210316e-02,\n",
       "         1.16605304e-01, -2.83090100e-02,  3.50999266e-01,\n",
       "        -8.91417935e-02, -1.05136208e-01,  1.42167494e-01,\n",
       "        -3.90642509e-02,  1.01763129e-01, -4.33865607e-01,\n",
       "        -3.62373382e-01,  1.02681704e-02,  2.90893823e-01,\n",
       "        -5.69903791e-01,  1.42296433e-01, -8.67454261e-02,\n",
       "         1.96285531e-01, -2.49178838e-02,  2.70172119e-01,\n",
       "        -1.48771673e-01, -1.56992748e-01, -1.94473252e-01,\n",
       "        -1.53478114e-02,  8.64847377e-02,  3.05758238e-01,\n",
       "        -4.61396985e-02, -2.56034344e-01,  3.19496512e-01,\n",
       "         1.34722531e-01, -5.58105037e-02,  2.19876364e-01,\n",
       "         1.50967255e-01, -1.76898912e-01, -8.15509036e-02,\n",
       "        -9.78737697e-02,  3.42343479e-01, -1.71133250e-01,\n",
       "         2.91813582e-01, -8.63718837e-02,  6.45426214e-01,\n",
       "         4.30225998e-01, -3.78894031e-01,  3.91260773e-01,\n",
       "         8.31121027e-01,  1.81598395e-01,  2.97663093e-01,\n",
       "         4.05284703e-01, -1.11421183e-01,  1.58070371e-01,\n",
       "        -1.55129060e-01,  1.97522566e-01,  3.54001790e-01,\n",
       "         1.81144759e-01, -4.34508383e-01,  3.01750869e-01,\n",
       "         2.29035541e-01, -4.74194825e-01,  2.34096587e-01,\n",
       "         1.88256383e-01,  1.79359138e-01, -1.02107108e-01,\n",
       "        -3.60184349e-02, -3.75808775e-01, -3.27728176e-03,\n",
       "         1.74576901e-02,  9.68177840e-02,  4.73259427e-02,\n",
       "         1.49487525e-01,  4.95912135e-02,  3.16307217e-01,\n",
       "         4.25559312e-01, -6.27876073e-03, -5.05824566e-01,\n",
       "         7.78347924e-02,  7.11382985e-01,  4.61098254e-01,\n",
       "        -5.90500772e-01, -1.72305509e-01, -1.37624323e-01,\n",
       "         3.38784039e-01,  2.20237479e-01, -9.15746242e-02,\n",
       "        -2.60887384e-01,  3.76404673e-01, -3.01879644e-01,\n",
       "         1.60190687e-01,  8.52400064e-01, -2.58949786e-01,\n",
       "        -7.94423595e-02, -2.80773789e-01,  4.08562332e-01,\n",
       "         1.15217373e-01,  1.21344194e-01,  4.26873937e-02,\n",
       "        -3.34561132e-02, -9.52053547e-01, -8.78977925e-02,\n",
       "        -6.94803149e-02, -8.63597035e-01,  3.81061614e-01,\n",
       "         2.25857615e-01, -1.04010522e-01,  2.18104109e-01,\n",
       "         1.87716529e-01,  7.35001042e-02, -1.06445156e-01,\n",
       "        -1.88328415e-01,  1.86778641e+00,  5.65831542e-01,\n",
       "        -9.06491399e-01, -5.01009896e-02,  2.34862626e-01,\n",
       "        -1.05752540e+00, -8.01073790e-01, -1.75361615e-02,\n",
       "         1.61550447e-01,  1.63114652e-01,  4.44991067e-02,\n",
       "        -4.12736416e-01,  2.90097645e-03, -1.80902493e+00,\n",
       "        -1.85806304e-01, -4.33681875e-01,  3.99973035e-01,\n",
       "        -6.24233223e-02,  1.63586512e-01,  3.44969988e-01,\n",
       "         7.95231909e-02, -1.25279188e-01, -4.56663162e-01,\n",
       "        -4.84479606e-01,  1.84890211e-01,  4.99872491e-02,\n",
       "         6.21715128e-01,  3.10295284e-01, -5.91813684e-01,\n",
       "         5.89434095e-02, -1.96023956e-01, -3.15021694e-01,\n",
       "         9.60769594e-01, -1.00413270e-01,  6.99706897e-02,\n",
       "         4.15390640e-01, -1.65024132e-01,  8.00612271e-02,\n",
       "         2.37087766e-03, -3.73910934e-01,  1.18516169e-01,\n",
       "        -1.39311790e-01,  1.68338940e-01, -2.80473351e-01,\n",
       "        -1.78507864e-01,  6.16015792e-01,  3.69012326e-01,\n",
       "         4.85965312e-01, -2.82405019e-01,  1.90386623e-01,\n",
       "         9.62957963e-02, -3.63986790e-01,  9.11376297e-01,\n",
       "         3.36018175e-01, -4.88195419e-01,  3.78845841e-01,\n",
       "         6.59349024e-01, -1.63516447e-01, -1.08965285e-01,\n",
       "        -4.88585532e-01,  3.13399285e-02,  5.28922439e-01,\n",
       "         7.42026210e-01, -1.36496902e-01, -2.22544640e-01,\n",
       "        -1.77187249e-01,  2.31303722e-02,  1.60335556e-01,\n",
       "         5.19168258e-01, -4.14708078e-01, -3.47275972e-01,\n",
       "        -3.57282728e-01,  1.16319209e-01, -6.22226357e-01,\n",
       "         5.49633503e-01, -2.37429291e-01, -6.65118098e-01,\n",
       "         6.01521395e-02, -5.34732103e-01,  2.71832168e-01,\n",
       "         6.07336387e-02,  5.89840375e-02, -1.13841109e-01,\n",
       "         9.57298502e-02, -3.99487108e-01, -1.07058302e-01,\n",
       "        -4.09482598e-01, -1.02614850e-01,  3.89641523e-01,\n",
       "         1.45821407e-01, -1.16245985e-01, -3.91162157e-01,\n",
       "        -3.30669582e-01,  9.87512022e-02,  4.09103930e-01,\n",
       "        -5.40212929e-01, -3.50623190e-01, -6.50595054e-02,\n",
       "        -2.67786473e-01, -1.49252862e-01, -7.52652362e-02,\n",
       "        -1.39266681e-02, -2.73695588e-02, -4.32429224e-01,\n",
       "        -7.16384128e-02,  4.81968326e-03,  1.45598784e-01,\n",
       "         4.62101310e-01, -3.40289176e-01, -1.24209858e-01,\n",
       "        -1.99195296e-02, -4.05423760e-01, -6.67802632e-01,\n",
       "         8.11305419e-02, -8.47080443e-03, -4.73643541e-02,\n",
       "         4.75243539e-01, -2.46161461e-01, -2.80780159e-02,\n",
       "         4.24983650e-01, -3.05719171e-02,  1.25945538e-01,\n",
       "        -6.00634376e-04, -2.44797934e-02,  1.80705160e-01,\n",
       "         3.59427959e-01, -9.78848487e-02, -3.46074216e-02,\n",
       "        -2.27149785e-01, -5.30853570e-01, -7.79595524e-02,\n",
       "        -3.53275985e-03, -1.43220751e-02,  1.03330612e+00,\n",
       "         2.10435405e-01,  4.97945882e-02]], dtype=float32)"
      ]
     },
     "execution_count": 16,
     "metadata": {},
     "output_type": "execute_result"
    }
   ],
   "source": [
    "X[0:1]"
   ]
  },
  {
   "cell_type": "code",
   "execution_count": 17,
   "id": "8a0d17e6-5ea9-4a13-914e-44c25d2d4ad2",
   "metadata": {
    "ExecuteTime": {
     "end_time": "2025-05-22T01:02:00.137259Z",
     "start_time": "2025-05-22T01:01:56.067520Z"
    }
   },
   "outputs": [],
   "source": [
    "# add embeddings to dataframe\n",
    "df['image_embedding'] = [json.dumps(emb.tolist()) for emb in X]"
   ]
  },
  {
   "cell_type": "code",
   "execution_count": 18,
   "id": "a9bd7d97-16d1-4be4-a6b5-59881065500f",
   "metadata": {
    "ExecuteTime": {
     "end_time": "2025-05-22T01:02:00.191532Z",
     "start_time": "2025-05-22T01:02:00.188398Z"
    }
   },
   "outputs": [
    {
     "data": {
      "text/html": [
       "<div>\n",
       "<style scoped>\n",
       "    .dataframe tbody tr th:only-of-type {\n",
       "        vertical-align: middle;\n",
       "    }\n",
       "\n",
       "    .dataframe tbody tr th {\n",
       "        vertical-align: top;\n",
       "    }\n",
       "\n",
       "    .dataframe thead th {\n",
       "        text-align: right;\n",
       "    }\n",
       "</style>\n",
       "<table border=\"1\" class=\"dataframe\">\n",
       "  <thead>\n",
       "    <tr style=\"text-align: right;\">\n",
       "      <th></th>\n",
       "      <th>filepath</th>\n",
       "      <th>target</th>\n",
       "      <th>image_embedding</th>\n",
       "    </tr>\n",
       "  </thead>\n",
       "  <tbody>\n",
       "    <tr>\n",
       "      <th>0</th>\n",
       "      <td>/Volumes/TheVault/ml_datasets/kaggle/cats-vs-d...</td>\n",
       "      <td>cats</td>\n",
       "      <td>[-0.04271531105041504, -0.06162956357002258, -...</td>\n",
       "    </tr>\n",
       "    <tr>\n",
       "      <th>1</th>\n",
       "      <td>/Volumes/TheVault/ml_datasets/kaggle/cats-vs-d...</td>\n",
       "      <td>cats</td>\n",
       "      <td>[0.1041913852095604, 0.25702211260795593, 0.01...</td>\n",
       "    </tr>\n",
       "    <tr>\n",
       "      <th>2</th>\n",
       "      <td>/Volumes/TheVault/ml_datasets/kaggle/cats-vs-d...</td>\n",
       "      <td>cats</td>\n",
       "      <td>[0.059033650904893875, -0.717756986618042, -0....</td>\n",
       "    </tr>\n",
       "    <tr>\n",
       "      <th>3</th>\n",
       "      <td>/Volumes/TheVault/ml_datasets/kaggle/cats-vs-d...</td>\n",
       "      <td>cats</td>\n",
       "      <td>[-0.24990229308605194, -0.1539546400308609, 0....</td>\n",
       "    </tr>\n",
       "    <tr>\n",
       "      <th>4</th>\n",
       "      <td>/Volumes/TheVault/ml_datasets/kaggle/cats-vs-d...</td>\n",
       "      <td>cats</td>\n",
       "      <td>[-0.20358122885227203, -0.2211882770061493, -0...</td>\n",
       "    </tr>\n",
       "  </tbody>\n",
       "</table>\n",
       "</div>"
      ],
      "text/plain": [
       "                                            filepath target  \\\n",
       "0  /Volumes/TheVault/ml_datasets/kaggle/cats-vs-d...   cats   \n",
       "1  /Volumes/TheVault/ml_datasets/kaggle/cats-vs-d...   cats   \n",
       "2  /Volumes/TheVault/ml_datasets/kaggle/cats-vs-d...   cats   \n",
       "3  /Volumes/TheVault/ml_datasets/kaggle/cats-vs-d...   cats   \n",
       "4  /Volumes/TheVault/ml_datasets/kaggle/cats-vs-d...   cats   \n",
       "\n",
       "                                     image_embedding  \n",
       "0  [-0.04271531105041504, -0.06162956357002258, -...  \n",
       "1  [0.1041913852095604, 0.25702211260795593, 0.01...  \n",
       "2  [0.059033650904893875, -0.717756986618042, -0....  \n",
       "3  [-0.24990229308605194, -0.1539546400308609, 0....  \n",
       "4  [-0.20358122885227203, -0.2211882770061493, -0...  "
      ]
     },
     "execution_count": 18,
     "metadata": {},
     "output_type": "execute_result"
    }
   ],
   "source": [
    "df.head()"
   ]
  },
  {
   "cell_type": "code",
   "execution_count": 19,
   "id": "2014905f-3093-4b24-a45e-9d018edf33f4",
   "metadata": {
    "ExecuteTime": {
     "end_time": "2025-05-22T01:02:00.402346Z",
     "start_time": "2025-05-22T01:02:00.399145Z"
    }
   },
   "outputs": [
    {
     "data": {
      "text/html": [
       "<div>\n",
       "<style scoped>\n",
       "    .dataframe tbody tr th:only-of-type {\n",
       "        vertical-align: middle;\n",
       "    }\n",
       "\n",
       "    .dataframe tbody tr th {\n",
       "        vertical-align: top;\n",
       "    }\n",
       "\n",
       "    .dataframe thead th {\n",
       "        text-align: right;\n",
       "    }\n",
       "</style>\n",
       "<table border=\"1\" class=\"dataframe\">\n",
       "  <thead>\n",
       "    <tr style=\"text-align: right;\">\n",
       "      <th></th>\n",
       "      <th>filepath</th>\n",
       "      <th>target</th>\n",
       "      <th>image_embedding</th>\n",
       "    </tr>\n",
       "  </thead>\n",
       "  <tbody>\n",
       "    <tr>\n",
       "      <th>24953</th>\n",
       "      <td>/Volumes/TheVault/ml_datasets/kaggle/cats-vs-d...</td>\n",
       "      <td>dogs</td>\n",
       "      <td>[-0.2488526999950409, -0.345273494720459, -0.4...</td>\n",
       "    </tr>\n",
       "    <tr>\n",
       "      <th>24954</th>\n",
       "      <td>/Volumes/TheVault/ml_datasets/kaggle/cats-vs-d...</td>\n",
       "      <td>dogs</td>\n",
       "      <td>[-0.15033303201198578, -0.1186925545334816, 0....</td>\n",
       "    </tr>\n",
       "    <tr>\n",
       "      <th>24955</th>\n",
       "      <td>/Volumes/TheVault/ml_datasets/kaggle/cats-vs-d...</td>\n",
       "      <td>dogs</td>\n",
       "      <td>[0.031125575304031372, 0.21204261481761932, -0...</td>\n",
       "    </tr>\n",
       "    <tr>\n",
       "      <th>24956</th>\n",
       "      <td>/Volumes/TheVault/ml_datasets/kaggle/cats-vs-d...</td>\n",
       "      <td>dogs</td>\n",
       "      <td>[-0.2592233717441559, 0.08375595510005951, 0.0...</td>\n",
       "    </tr>\n",
       "    <tr>\n",
       "      <th>24957</th>\n",
       "      <td>/Volumes/TheVault/ml_datasets/kaggle/cats-vs-d...</td>\n",
       "      <td>dogs</td>\n",
       "      <td>[-0.47171539068222046, -0.24606642127037048, -...</td>\n",
       "    </tr>\n",
       "  </tbody>\n",
       "</table>\n",
       "</div>"
      ],
      "text/plain": [
       "                                                filepath target  \\\n",
       "24953  /Volumes/TheVault/ml_datasets/kaggle/cats-vs-d...   dogs   \n",
       "24954  /Volumes/TheVault/ml_datasets/kaggle/cats-vs-d...   dogs   \n",
       "24955  /Volumes/TheVault/ml_datasets/kaggle/cats-vs-d...   dogs   \n",
       "24956  /Volumes/TheVault/ml_datasets/kaggle/cats-vs-d...   dogs   \n",
       "24957  /Volumes/TheVault/ml_datasets/kaggle/cats-vs-d...   dogs   \n",
       "\n",
       "                                         image_embedding  \n",
       "24953  [-0.2488526999950409, -0.345273494720459, -0.4...  \n",
       "24954  [-0.15033303201198578, -0.1186925545334816, 0....  \n",
       "24955  [0.031125575304031372, 0.21204261481761932, -0...  \n",
       "24956  [-0.2592233717441559, 0.08375595510005951, 0.0...  \n",
       "24957  [-0.47171539068222046, -0.24606642127037048, -...  "
      ]
     },
     "execution_count": 19,
     "metadata": {},
     "output_type": "execute_result"
    }
   ],
   "source": [
    "df.tail()"
   ]
  },
  {
   "cell_type": "markdown",
   "id": "14e6b9f1-1ea3-46f7-988d-a99358a44b7c",
   "metadata": {},
   "source": [
    "### Save the new dataframe with the embeddings"
   ]
  },
  {
   "cell_type": "code",
   "execution_count": 20,
   "id": "805d0cb7-9e4a-4b8e-9e16-d678ced495c9",
   "metadata": {
    "ExecuteTime": {
     "end_time": "2025-05-22T01:02:02.811613Z",
     "start_time": "2025-05-22T01:02:00.635327Z"
    }
   },
   "outputs": [],
   "source": [
    "df.to_csv(f\"{root_dir}/preprocessed_data/image_embeddings.csv\", index=False)"
   ]
  },
  {
   "cell_type": "markdown",
   "id": "aef32906-7937-4111-9108-b567ae0cc06b",
   "metadata": {},
   "source": [
    "## Image Embeddings DataSet\n",
    "\n",
    "The image embeddings dataset can now be loaded and used for training machine learning models.\n",
    "\n",
    "The Features will be the image_embedding column and the target with be the target column"
   ]
  },
  {
   "cell_type": "code",
   "execution_count": null,
   "id": "15161f09-980c-487d-8f9b-3b75c64f2e7f",
   "metadata": {
    "ExecuteTime": {
     "end_time": "2025-05-22T01:02:02.823309Z",
     "start_time": "2025-05-22T01:02:02.821954Z"
    }
   },
   "outputs": [],
   "source": []
  }
 ],
 "metadata": {
  "kernelspec": {
   "display_name": "Python 3 (ipykernel)",
   "language": "python",
   "name": "python3"
  },
  "language_info": {
   "codemirror_mode": {
    "name": "ipython",
    "version": 3
   },
   "file_extension": ".py",
   "mimetype": "text/x-python",
   "name": "python",
   "nbconvert_exporter": "python",
   "pygments_lexer": "ipython3",
   "version": "3.11.3"
  }
 },
 "nbformat": 4,
 "nbformat_minor": 5
}
