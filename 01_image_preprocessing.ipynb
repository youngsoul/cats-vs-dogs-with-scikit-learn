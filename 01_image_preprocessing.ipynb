{
 "cells": [
  {
   "cell_type": "markdown",
   "id": "9b8b1293aab01931",
   "metadata": {},
   "source": [
    "# Cats vs Dogs Image DataSet Preprocessing"
   ]
  },
  {
   "cell_type": "markdown",
   "id": "81373efaf90b6786",
   "metadata": {},
   "source": [
    "In this notebook, we will be preprocessing the images to run through a pipeline that will scale and convert each image to a vector embedding using the `embetter package` `ClipEncoder` class.\n",
    "\n",
    "The `ClipEncoder` will convert the image to vector of 512 values.  Much like converting text or text phrases into an encoded vector the same approach will be taken with the images.\n",
    "\n",
    "The encoded image data will then be saved and that data will be used in subsequent notebooks to train scikit-learn machine learning models to perform the cat vs dog classification."
   ]
  },
  {
   "cell_type": "markdown",
   "id": "a9069a739c4a00b3",
   "metadata": {},
   "source": [
    "The dataset is the kaggle `Cats-vs-Dogs` dataset that can be found in this repo or on the Kaggle website at:\n",
    "\n",
    "https://www.kaggle.com/datasets/shaunthesheep/microsoft-catsvsdogs-dataset"
   ]
  },
  {
   "cell_type": "code",
   "execution_count": 17,
   "id": "fe1cba6c857c471a",
   "metadata": {
    "ExecuteTime": {
     "end_time": "2025-05-21T22:17:33.244354Z",
     "start_time": "2025-05-21T22:17:33.241830Z"
    }
   },
   "outputs": [],
   "source": [
    "from sklearn.preprocessing import StandardScaler\n",
    "from sklearn.pipeline import make_pipeline\n",
    "from embetter.vision import ImageLoader\n",
    "from embetter.multi import ClipEncoder\n",
    "from embetter.grab import ColumnGrabber\n",
    "import pandas as pd\n",
    "from pathlib import Path\n",
    "import json"
   ]
  },
  {
   "cell_type": "markdown",
   "id": "70d3849998f1560c",
   "metadata": {},
   "source": [
    "## Create Pandas DataFrame of filepaths and labels\n",
    "\n",
    "Function will review the files in the `data` directory and return a pandas DataFrame with 2 columns:\n",
    "\n",
    "* filepaths\n",
    "* target name ( e.g. cat or dog )"
   ]
  },
  {
   "cell_type": "code",
   "execution_count": 18,
   "id": "b71943cc444233a2",
   "metadata": {
    "ExecuteTime": {
     "end_time": "2025-05-21T22:17:36.889198Z",
     "start_time": "2025-05-21T22:17:36.885237Z"
    }
   },
   "outputs": [],
   "source": [
    "def create_filepaths_df() -> pd.DataFrame:\n",
    "    dirs = ['cats', 'dogs']\n",
    "    data = []\n",
    "    for dir in dirs:\n",
    "        for file in Path(f'data/{dir}').glob('*.jpg'):\n",
    "            row_data = {\n",
    "                'filepath': file,\n",
    "                'target': dir\n",
    "            }\n",
    "            data.append(row_data)\n",
    "    files_df = pd.DataFrame(data, columns=[\"filepath\", \"target\"])\n",
    "    return files_df\n",
    "\n"
   ]
  },
  {
   "cell_type": "code",
   "execution_count": 19,
   "id": "b56a3325f2e02e44",
   "metadata": {
    "ExecuteTime": {
     "end_time": "2025-05-21T22:23:37.084692Z",
     "start_time": "2025-05-21T22:23:36.982546Z"
    }
   },
   "outputs": [],
   "source": [
    "files_df = create_filepaths_df()"
   ]
  },
  {
   "cell_type": "code",
   "execution_count": 20,
   "id": "a72c07be-93a0-4f30-bc7a-1e03d21a7eb4",
   "metadata": {},
   "outputs": [
    {
     "data": {
      "text/html": [
       "<div>\n",
       "<style scoped>\n",
       "    .dataframe tbody tr th:only-of-type {\n",
       "        vertical-align: middle;\n",
       "    }\n",
       "\n",
       "    .dataframe tbody tr th {\n",
       "        vertical-align: top;\n",
       "    }\n",
       "\n",
       "    .dataframe thead th {\n",
       "        text-align: right;\n",
       "    }\n",
       "</style>\n",
       "<table border=\"1\" class=\"dataframe\">\n",
       "  <thead>\n",
       "    <tr style=\"text-align: right;\">\n",
       "      <th></th>\n",
       "      <th>filepath</th>\n",
       "      <th>target</th>\n",
       "    </tr>\n",
       "  </thead>\n",
       "  <tbody>\n",
       "    <tr>\n",
       "      <th>0</th>\n",
       "      <td>data/cats/cat.5077.jpg</td>\n",
       "      <td>cats</td>\n",
       "    </tr>\n",
       "    <tr>\n",
       "      <th>1</th>\n",
       "      <td>data/cats/cat.2718.jpg</td>\n",
       "      <td>cats</td>\n",
       "    </tr>\n",
       "    <tr>\n",
       "      <th>2</th>\n",
       "      <td>data/cats/cat.10151.jpg</td>\n",
       "      <td>cats</td>\n",
       "    </tr>\n",
       "    <tr>\n",
       "      <th>3</th>\n",
       "      <td>data/cats/cat.3406.jpg</td>\n",
       "      <td>cats</td>\n",
       "    </tr>\n",
       "    <tr>\n",
       "      <th>4</th>\n",
       "      <td>data/cats/cat.4369.jpg</td>\n",
       "      <td>cats</td>\n",
       "    </tr>\n",
       "  </tbody>\n",
       "</table>\n",
       "</div>"
      ],
      "text/plain": [
       "                  filepath target\n",
       "0   data/cats/cat.5077.jpg   cats\n",
       "1   data/cats/cat.2718.jpg   cats\n",
       "2  data/cats/cat.10151.jpg   cats\n",
       "3   data/cats/cat.3406.jpg   cats\n",
       "4   data/cats/cat.4369.jpg   cats"
      ]
     },
     "execution_count": 20,
     "metadata": {},
     "output_type": "execute_result"
    }
   ],
   "source": [
    "files_df.head()"
   ]
  },
  {
   "cell_type": "markdown",
   "id": "490cd11a9683fb57",
   "metadata": {},
   "source": [
    "### Save files_df to the preprocessing directory\n",
    "\n"
   ]
  },
  {
   "cell_type": "code",
   "execution_count": 21,
   "id": "a711ebbf-0f74-4be2-a6a0-2056d11c897c",
   "metadata": {},
   "outputs": [],
   "source": [
    "files_df.to_csv(\"preprocessed_data/files_data.csv\", index=False)"
   ]
  },
  {
   "cell_type": "markdown",
   "id": "13da7c64-9a0f-466f-8273-02d872d4ba0f",
   "metadata": {},
   "source": [
    "## Convert Image files to Image embeddings "
   ]
  },
  {
   "cell_type": "code",
   "execution_count": 22,
   "id": "c6046d18-cab5-4307-ad70-6c56e14855a9",
   "metadata": {},
   "outputs": [],
   "source": [
    "# Image Embedding Pipeline\n",
    "image_embedding_pipeline = make_pipeline(\n",
    "   ColumnGrabber(\"filepath\"),\n",
    "  ImageLoader(convert=\"RGB\"),\n",
    "  ClipEncoder(),\n",
    ")"
   ]
  },
  {
   "cell_type": "code",
   "execution_count": 23,
   "id": "a9f882f6-75c6-4892-9a5e-52fa07dbbb0b",
   "metadata": {},
   "outputs": [],
   "source": [
    "df = pd.read_csv(\"preprocessed_data/files_data.csv\")"
   ]
  },
  {
   "cell_type": "code",
   "execution_count": 24,
   "id": "226a0c2d-2ef0-4f2f-96b5-5b6dab5b6ffd",
   "metadata": {},
   "outputs": [
    {
     "data": {
      "text/html": [
       "<div>\n",
       "<style scoped>\n",
       "    .dataframe tbody tr th:only-of-type {\n",
       "        vertical-align: middle;\n",
       "    }\n",
       "\n",
       "    .dataframe tbody tr th {\n",
       "        vertical-align: top;\n",
       "    }\n",
       "\n",
       "    .dataframe thead th {\n",
       "        text-align: right;\n",
       "    }\n",
       "</style>\n",
       "<table border=\"1\" class=\"dataframe\">\n",
       "  <thead>\n",
       "    <tr style=\"text-align: right;\">\n",
       "      <th></th>\n",
       "      <th>filepath</th>\n",
       "      <th>target</th>\n",
       "    </tr>\n",
       "  </thead>\n",
       "  <tbody>\n",
       "    <tr>\n",
       "      <th>0</th>\n",
       "      <td>data/cats/cat.5077.jpg</td>\n",
       "      <td>cats</td>\n",
       "    </tr>\n",
       "    <tr>\n",
       "      <th>1</th>\n",
       "      <td>data/cats/cat.2718.jpg</td>\n",
       "      <td>cats</td>\n",
       "    </tr>\n",
       "    <tr>\n",
       "      <th>2</th>\n",
       "      <td>data/cats/cat.10151.jpg</td>\n",
       "      <td>cats</td>\n",
       "    </tr>\n",
       "    <tr>\n",
       "      <th>3</th>\n",
       "      <td>data/cats/cat.3406.jpg</td>\n",
       "      <td>cats</td>\n",
       "    </tr>\n",
       "    <tr>\n",
       "      <th>4</th>\n",
       "      <td>data/cats/cat.4369.jpg</td>\n",
       "      <td>cats</td>\n",
       "    </tr>\n",
       "  </tbody>\n",
       "</table>\n",
       "</div>"
      ],
      "text/plain": [
       "                  filepath target\n",
       "0   data/cats/cat.5077.jpg   cats\n",
       "1   data/cats/cat.2718.jpg   cats\n",
       "2  data/cats/cat.10151.jpg   cats\n",
       "3   data/cats/cat.3406.jpg   cats\n",
       "4   data/cats/cat.4369.jpg   cats"
      ]
     },
     "execution_count": 24,
     "metadata": {},
     "output_type": "execute_result"
    }
   ],
   "source": [
    "df.head()"
   ]
  },
  {
   "cell_type": "code",
   "execution_count": 25,
   "id": "17e646fe-9c5d-4bea-82e9-2c4366260bed",
   "metadata": {},
   "outputs": [
    {
     "name": "stdout",
     "output_type": "stream",
     "text": [
      "CPU times: user 1min 9s, sys: 6.41 s, total: 1min 15s\n",
      "Wall time: 1min 49s\n"
     ]
    }
   ],
   "source": [
    "%%time\n",
    "\n",
    "X = image_embedding_pipeline.fit_transform(df)"
   ]
  },
  {
   "cell_type": "code",
   "execution_count": 26,
   "id": "67d27302-159b-4ebe-a803-2b62ee84a213",
   "metadata": {},
   "outputs": [
    {
     "data": {
      "text/plain": [
       "(24980, 512)"
      ]
     },
     "execution_count": 26,
     "metadata": {},
     "output_type": "execute_result"
    }
   ],
   "source": [
    "X.shape"
   ]
  },
  {
   "cell_type": "code",
   "execution_count": 27,
   "id": "08423c1a-c8bc-47b2-857c-226f28c8e65d",
   "metadata": {},
   "outputs": [
    {
     "data": {
      "text/plain": [
       "numpy.ndarray"
      ]
     },
     "execution_count": 27,
     "metadata": {},
     "output_type": "execute_result"
    }
   ],
   "source": [
    "type(X)"
   ]
  },
  {
   "cell_type": "code",
   "execution_count": 28,
   "id": "d33fad10-7e32-4756-af4d-e38e35a9056a",
   "metadata": {},
   "outputs": [],
   "source": [
    "y = df['target']"
   ]
  },
  {
   "cell_type": "code",
   "execution_count": 29,
   "id": "fd232497-5424-4a3d-b31b-5a94cf430d0b",
   "metadata": {},
   "outputs": [
    {
     "data": {
      "text/plain": [
       "pandas.core.series.Series"
      ]
     },
     "execution_count": 29,
     "metadata": {},
     "output_type": "execute_result"
    }
   ],
   "source": [
    "type(y)"
   ]
  },
  {
   "cell_type": "code",
   "execution_count": 30,
   "id": "ead173f1-130e-446c-a6d3-87c54f4e8e3b",
   "metadata": {},
   "outputs": [
    {
     "data": {
      "text/plain": [
       "array([[-2.75973976e-01, -3.60909134e-01, -8.04996341e-02,\n",
       "        -4.34786528e-02, -2.33582407e-01, -1.86831743e-01,\n",
       "         8.28629136e-02,  3.19521487e-01,  3.18694234e-01,\n",
       "        -1.42109185e-01,  2.60429159e-02, -2.45073438e-01,\n",
       "         7.03080356e-01, -1.63924083e-01,  3.00696284e-01,\n",
       "         8.34534243e-02,  9.69187856e-01,  4.67789322e-02,\n",
       "         3.80934566e-01,  5.19376755e-01, -4.75792468e-01,\n",
       "        -5.41630946e-02,  6.56258702e-01, -3.17720890e-01,\n",
       "        -6.65650249e-01, -6.35989308e-02,  6.21542454e-01,\n",
       "         1.59050927e-01,  6.94697723e-03,  3.02137822e-01,\n",
       "         1.80044323e-02,  1.26573900e-02,  1.32118696e-02,\n",
       "         4.06707168e-01,  2.70707607e-01,  1.40250698e-01,\n",
       "         3.37431788e-01, -1.39392778e-01,  1.37031125e-02,\n",
       "         1.63533330e+00, -3.63601029e-01, -6.70272827e-01,\n",
       "         3.04105747e-02,  3.65281664e-02, -6.36518449e-02,\n",
       "        -1.40163314e+00, -9.81392711e-02, -2.84088627e-02,\n",
       "         9.11035612e-02, -2.98568636e-01,  2.04224437e-01,\n",
       "         1.81678802e-01,  4.87999432e-02, -4.04421628e-01,\n",
       "        -4.56658415e-02,  2.29440975e-05, -1.00919940e-01,\n",
       "         9.08747792e-01, -2.26576626e-01, -4.55199808e-01,\n",
       "         1.53545785e+00, -7.27042705e-02,  2.47759700e-01,\n",
       "        -3.53691012e-01,  1.96201038e-02, -4.58074421e-01,\n",
       "         3.95507067e-01,  4.70404655e-01, -1.66541308e-01,\n",
       "         3.47561270e-01, -1.31396893e-02, -2.40252316e-01,\n",
       "        -9.90492404e-02,  3.25625956e-01, -4.19345587e-01,\n",
       "        -5.51174879e-01,  1.36126727e-01, -4.51968491e-01,\n",
       "        -7.17411935e-02,  2.56374151e-01, -4.14298892e-01,\n",
       "        -8.33575845e-01, -2.58513242e-01, -2.56347954e-01,\n",
       "         4.22090553e-02,  4.94606085e-02,  1.44150245e+00,\n",
       "        -3.16877127e-01, -6.82897791e-02, -1.29545614e-01,\n",
       "         9.44548920e-02, -5.80256760e-01, -7.32718706e+00,\n",
       "         3.81718367e-01, -3.68086785e-01, -2.38090530e-01,\n",
       "         4.76859249e-02, -4.52967465e-01, -1.06759608e+00,\n",
       "         8.85835648e-01, -8.82658362e-02, -1.78040460e-01,\n",
       "        -2.09932104e-02,  2.18699872e-02,  1.07107982e-01,\n",
       "         1.12846971e-01,  2.69834518e-01,  3.44391018e-02,\n",
       "        -4.27227169e-01, -5.13838291e-01, -2.86559731e-01,\n",
       "        -2.35207140e-01,  2.20436111e-01,  1.31826177e-01,\n",
       "        -1.36187449e-01,  2.96963096e-01, -3.85021687e-01,\n",
       "         2.31763259e-01,  1.78458557e-01,  1.77247554e-01,\n",
       "         5.67149401e-01, -2.16755625e-02,  1.58836588e-01,\n",
       "        -3.32639158e-01,  2.81794906e-01, -5.26482165e-01,\n",
       "        -2.44508594e-01,  4.67203170e-01, -1.38982579e-01,\n",
       "         1.00730963e-01,  5.05845994e-02, -2.50005454e-01,\n",
       "        -2.24933326e-01,  8.37608397e-01, -5.56775987e-01,\n",
       "        -1.78547323e-01, -2.01498538e-01, -1.03371352e-01,\n",
       "        -1.55486301e-01, -3.66324812e-01,  3.96120757e-01,\n",
       "         1.06903315e-01,  8.81105885e-02,  6.50369167e-01,\n",
       "        -5.76479137e-01,  1.32470414e-01,  4.70656514e-01,\n",
       "         5.74836694e-02,  3.15793127e-01,  5.17875314e-01,\n",
       "        -3.47162127e-01,  4.51836258e-01, -5.63532054e-01,\n",
       "        -3.89118701e-01,  7.76789151e-03,  1.08023085e-01,\n",
       "        -5.84842503e-01, -5.06301761e-01, -3.31558943e-01,\n",
       "         1.51875377e-01,  6.78287297e-02, -6.85821176e-02,\n",
       "        -1.43238783e-01,  1.41574830e-01,  1.79030553e-01,\n",
       "        -1.35344207e-01,  1.80757239e-01,  3.65020305e-01,\n",
       "        -2.51795053e-01,  5.47235012e-01, -2.31595665e-01,\n",
       "         5.02089083e-01,  1.12843700e-01,  2.23521560e-01,\n",
       "        -2.09608778e-01, -1.22174144e-01,  8.04918170e-01,\n",
       "        -6.52542561e-02,  5.99126458e-01,  3.51533920e-01,\n",
       "        -3.27649236e-01,  1.65287480e-01,  2.96266973e-01,\n",
       "        -9.95805785e-02, -2.60443967e-02,  3.30805071e-02,\n",
       "        -2.81336159e-01, -3.56742412e-01,  3.96550655e-01,\n",
       "        -3.22504818e-01,  2.43856668e-01,  1.48328347e-02,\n",
       "         4.75414321e-02, -2.17971534e-01,  4.12517816e-01,\n",
       "        -6.63912073e-02, -4.34355401e-02, -3.50550920e-01,\n",
       "        -9.15692985e-01, -3.91394466e-01, -3.65968406e-01,\n",
       "         1.20090403e-01, -1.72251776e-01,  2.52506346e-01,\n",
       "        -4.56866592e-01, -3.78307477e-02,  6.31654263e-02,\n",
       "         3.72030616e-01, -1.02587961e-01,  1.13127366e-01,\n",
       "        -1.61591500e-01,  5.09380043e-01, -2.03607947e-01,\n",
       "         2.35636920e-01, -4.80230629e-01, -1.98603347e-01,\n",
       "        -1.03346305e-02, -2.59981692e-01,  1.51481533e+00,\n",
       "        -5.01594067e-01,  9.30834293e-01,  5.38856864e-01,\n",
       "         8.96352679e-02,  7.04885796e-02, -2.40368843e-01,\n",
       "         2.43202701e-01,  1.27282232e-01, -4.47868735e-01,\n",
       "        -1.41684815e-01, -2.60304540e-01, -1.46316051e-01,\n",
       "        -1.43404871e-01, -2.59449005e-01,  7.04593837e-01,\n",
       "        -1.92694992e-01,  1.10227890e-01,  2.43632630e-01,\n",
       "        -3.47424686e-01,  3.99252564e-01, -5.51058352e-01,\n",
       "         3.72745544e-01, -2.87395269e-01, -9.32554230e-02,\n",
       "        -8.10081977e-03,  5.13817742e-02,  4.64236289e-01,\n",
       "        -1.25462428e-01, -6.87199950e-01,  1.47482663e-01,\n",
       "         2.52468348e-01, -1.40867025e-01,  1.31572381e-01,\n",
       "         2.80779339e-02, -2.62560010e-01,  1.04605213e-01,\n",
       "         2.99228549e-01,  1.41164726e-02, -3.46616149e-01,\n",
       "         8.36966336e-02, -3.22950006e-01, -2.14558184e-01,\n",
       "         1.71317175e-01, -9.91040096e-02, -1.63419640e+00,\n",
       "         5.31714410e-03, -4.92498845e-01, -4.77103777e-02,\n",
       "        -2.34352946e-01, -1.49933502e-01,  6.81249872e-02,\n",
       "        -2.65285820e-01, -1.12238534e-01,  6.84651315e-01,\n",
       "         7.78421238e-02, -6.58023000e-01,  1.17543705e-01,\n",
       "        -1.80288684e-02,  9.49780419e-02, -4.73881871e-01,\n",
       "        -1.86820209e-01,  7.01870546e-02,  3.38093519e-01,\n",
       "        -4.08705831e-01,  5.23754537e-01, -1.64760590e-01,\n",
       "        -1.11091681e-01,  2.07305968e-01,  1.68052554e-01,\n",
       "         7.71908015e-02,  6.49831295e-02, -5.79566181e-01,\n",
       "        -1.12930484e-01,  8.92986581e-02,  3.02304719e-02,\n",
       "         3.27984333e-01, -2.77245462e-01,  1.77759066e-01,\n",
       "        -6.02831505e-02,  8.14224556e-02,  1.64384201e-01,\n",
       "         7.80164152e-02,  1.16550751e-01, -1.29182294e-01,\n",
       "         2.09690165e-02, -4.05216426e-01, -7.81185105e-02,\n",
       "         8.27538967e-02, -2.19249859e-01,  1.54784307e-01,\n",
       "         4.26124781e-01, -2.87881404e-01,  1.78775281e-01,\n",
       "         8.36723387e-01, -5.13915494e-02,  3.00967367e-03,\n",
       "         4.33529794e-01, -1.52203709e-01,  2.99988002e-01,\n",
       "        -4.40855920e-02, -8.36129248e-01,  7.36381471e-01,\n",
       "         3.81984621e-01, -7.24945590e-02,  2.62030244e-01,\n",
       "         3.98471802e-01, -7.35186860e-02, -1.60711944e-01,\n",
       "         5.74186087e-01,  2.86350191e-01,  1.98304579e-01,\n",
       "        -3.66854705e-02, -4.77001250e-01,  2.10923523e-01,\n",
       "        -1.86364084e-01,  3.03834796e-01, -9.86387283e-02,\n",
       "         7.72074610e-02, -1.11344300e-01,  2.87755311e-01,\n",
       "        -3.52093846e-01, -4.65101190e-02, -3.52465957e-01,\n",
       "         1.55449793e-01,  7.37193227e-01,  1.81296852e-03,\n",
       "        -5.01439631e-01, -1.04403056e-01,  1.34169042e-01,\n",
       "         2.88239926e-01, -1.85483411e-01, -4.46527809e-01,\n",
       "        -3.31865966e-01,  1.04617441e+00, -1.19145080e-01,\n",
       "        -3.50128263e-01,  7.23301530e-01, -1.25600779e-02,\n",
       "        -3.45157981e-02, -5.86918145e-02,  2.96356857e-01,\n",
       "        -1.07083388e-01, -2.58314982e-02,  5.57935953e-01,\n",
       "         7.38027245e-02, -1.45986474e+00,  4.42185765e-03,\n",
       "         2.03488082e-01, -2.08115011e-01,  5.80286309e-02,\n",
       "         1.20978951e-01,  2.01375127e-01,  3.47895414e-01,\n",
       "        -2.78821021e-01, -1.93355247e-01, -3.77536148e-01,\n",
       "        -4.37010586e-01,  1.51903796e+00,  3.55510950e-01,\n",
       "        -2.64910478e-02,  2.40245432e-01,  3.89215529e-01,\n",
       "        -7.41229773e-01, -1.66278362e-01,  1.97032124e-01,\n",
       "         4.59933430e-01,  1.33301422e-01, -3.82885963e-01,\n",
       "        -2.39303961e-01,  5.93569770e-04, -1.03190875e+00,\n",
       "         2.66461879e-01, -7.96519876e-01,  1.56760857e-01,\n",
       "         2.08767951e-01, -2.62235671e-01,  1.92273021e-01,\n",
       "         4.02891159e-01, -4.27462071e-01, -1.78272173e-01,\n",
       "        -1.17759220e-01, -2.11723536e-01,  2.34483972e-01,\n",
       "        -7.64211044e-02,  6.24573193e-02, -5.49016058e-01,\n",
       "         2.08602548e-01,  8.23155567e-02, -3.88074309e-01,\n",
       "         7.33638108e-01, -2.05195751e-02,  6.44213200e-01,\n",
       "         4.55357552e-01, -4.93632108e-01,  3.85024436e-02,\n",
       "         3.08421403e-01, -1.13088869e-01,  2.62721539e-01,\n",
       "        -1.09271109e-01,  2.01095287e-02, -6.23279810e-01,\n",
       "        -5.56194521e-02,  8.33658934e-01,  2.84042239e-01,\n",
       "        -1.58378519e-02,  4.15262818e-01,  2.39642188e-01,\n",
       "        -4.16346043e-02, -5.05202591e-01, -1.00813329e-01,\n",
       "         1.27888061e-02,  2.01646358e-01,  2.89507359e-01,\n",
       "         7.10505664e-01, -2.28032544e-02,  1.43324479e-01,\n",
       "        -2.73551464e-01, -2.16518208e-01,  4.18648034e-01,\n",
       "         6.75517619e-01, -1.13698244e-01,  2.19047093e-03,\n",
       "         6.26127198e-02, -1.43225849e-01, -4.49441284e-01,\n",
       "         5.45356214e-01, -1.89304113e-01,  3.31241526e-02,\n",
       "        -5.42107165e-01,  9.34942365e-02, -2.71202117e-01,\n",
       "         1.18711358e-02, -4.00222301e-01, -2.55549788e-01,\n",
       "         7.05370307e-01, -5.81725657e-01,  1.46119207e-01,\n",
       "         2.87518978e-01,  4.34510469e-01, -4.53091487e-02,\n",
       "         4.00798529e-01, -7.22885281e-02, -2.75733322e-01,\n",
       "        -3.16475451e-01, -6.34199679e-02,  1.84038088e-01,\n",
       "         4.94577795e-01, -8.07338357e-02, -6.59039736e-01,\n",
       "         1.83408961e-01,  4.62459549e-02,  5.93218863e-01,\n",
       "        -2.33341113e-01, -2.79929549e-01,  3.77515070e-02,\n",
       "        -6.23716176e-01, -1.30185127e-01, -3.49993445e-02,\n",
       "        -3.35834622e-01,  1.76052704e-01, -5.45594422e-03,\n",
       "         7.33719906e-04, -6.16551101e-01,  1.16727520e-02,\n",
       "        -8.26795697e-02, -4.69827086e-01,  4.51105893e-01,\n",
       "         3.10621053e-01, -2.04204973e-02, -5.29898405e-01,\n",
       "        -1.45483822e-01, -9.59238261e-02,  1.63222119e-01,\n",
       "         2.92973131e-01, -3.56965035e-01,  4.71190989e-01,\n",
       "         3.78260046e-01,  1.57834157e-01,  3.14243048e-01,\n",
       "        -2.10248023e-01, -6.43813312e-02, -3.86586040e-01,\n",
       "         2.51693428e-01,  1.04366884e-01, -4.43335474e-02,\n",
       "        -5.51130772e-02, -1.00324750e-01,  8.04426149e-02,\n",
       "        -1.24107175e-01,  2.16158465e-01,  7.47369289e-01,\n",
       "        -1.54848024e-01,  2.24700868e-01]], dtype=float32)"
      ]
     },
     "execution_count": 30,
     "metadata": {},
     "output_type": "execute_result"
    }
   ],
   "source": [
    "X[0:1]"
   ]
  },
  {
   "cell_type": "code",
   "execution_count": 31,
   "id": "8a0d17e6-5ea9-4a13-914e-44c25d2d4ad2",
   "metadata": {},
   "outputs": [],
   "source": [
    "# add embeddings to dataframe\n",
    "df['image_embedding'] = [json.dumps(emb.tolist()) for emb in X]"
   ]
  },
  {
   "cell_type": "code",
   "execution_count": 32,
   "id": "a9bd7d97-16d1-4be4-a6b5-59881065500f",
   "metadata": {},
   "outputs": [
    {
     "data": {
      "text/html": [
       "<div>\n",
       "<style scoped>\n",
       "    .dataframe tbody tr th:only-of-type {\n",
       "        vertical-align: middle;\n",
       "    }\n",
       "\n",
       "    .dataframe tbody tr th {\n",
       "        vertical-align: top;\n",
       "    }\n",
       "\n",
       "    .dataframe thead th {\n",
       "        text-align: right;\n",
       "    }\n",
       "</style>\n",
       "<table border=\"1\" class=\"dataframe\">\n",
       "  <thead>\n",
       "    <tr style=\"text-align: right;\">\n",
       "      <th></th>\n",
       "      <th>filepath</th>\n",
       "      <th>target</th>\n",
       "      <th>image_embedding</th>\n",
       "    </tr>\n",
       "  </thead>\n",
       "  <tbody>\n",
       "    <tr>\n",
       "      <th>0</th>\n",
       "      <td>data/cats/cat.5077.jpg</td>\n",
       "      <td>cats</td>\n",
       "      <td>[-0.27597397565841675, -0.3609091341495514, -0...</td>\n",
       "    </tr>\n",
       "    <tr>\n",
       "      <th>1</th>\n",
       "      <td>data/cats/cat.2718.jpg</td>\n",
       "      <td>cats</td>\n",
       "      <td>[-0.2487901747226715, 0.06151339039206505, 0.2...</td>\n",
       "    </tr>\n",
       "    <tr>\n",
       "      <th>2</th>\n",
       "      <td>data/cats/cat.10151.jpg</td>\n",
       "      <td>cats</td>\n",
       "      <td>[-0.20199576020240784, -0.08704289048910141, 0...</td>\n",
       "    </tr>\n",
       "    <tr>\n",
       "      <th>3</th>\n",
       "      <td>data/cats/cat.3406.jpg</td>\n",
       "      <td>cats</td>\n",
       "      <td>[-0.2417299449443817, -0.42382076382637024, -0...</td>\n",
       "    </tr>\n",
       "    <tr>\n",
       "      <th>4</th>\n",
       "      <td>data/cats/cat.4369.jpg</td>\n",
       "      <td>cats</td>\n",
       "      <td>[0.11845763772726059, 0.021671850234270096, 0....</td>\n",
       "    </tr>\n",
       "  </tbody>\n",
       "</table>\n",
       "</div>"
      ],
      "text/plain": [
       "                  filepath target  \\\n",
       "0   data/cats/cat.5077.jpg   cats   \n",
       "1   data/cats/cat.2718.jpg   cats   \n",
       "2  data/cats/cat.10151.jpg   cats   \n",
       "3   data/cats/cat.3406.jpg   cats   \n",
       "4   data/cats/cat.4369.jpg   cats   \n",
       "\n",
       "                                     image_embedding  \n",
       "0  [-0.27597397565841675, -0.3609091341495514, -0...  \n",
       "1  [-0.2487901747226715, 0.06151339039206505, 0.2...  \n",
       "2  [-0.20199576020240784, -0.08704289048910141, 0...  \n",
       "3  [-0.2417299449443817, -0.42382076382637024, -0...  \n",
       "4  [0.11845763772726059, 0.021671850234270096, 0....  "
      ]
     },
     "execution_count": 32,
     "metadata": {},
     "output_type": "execute_result"
    }
   ],
   "source": [
    "df.head()"
   ]
  },
  {
   "cell_type": "code",
   "execution_count": 33,
   "id": "2014905f-3093-4b24-a45e-9d018edf33f4",
   "metadata": {},
   "outputs": [
    {
     "data": {
      "text/html": [
       "<div>\n",
       "<style scoped>\n",
       "    .dataframe tbody tr th:only-of-type {\n",
       "        vertical-align: middle;\n",
       "    }\n",
       "\n",
       "    .dataframe tbody tr th {\n",
       "        vertical-align: top;\n",
       "    }\n",
       "\n",
       "    .dataframe thead th {\n",
       "        text-align: right;\n",
       "    }\n",
       "</style>\n",
       "<table border=\"1\" class=\"dataframe\">\n",
       "  <thead>\n",
       "    <tr style=\"text-align: right;\">\n",
       "      <th></th>\n",
       "      <th>filepath</th>\n",
       "      <th>target</th>\n",
       "      <th>image_embedding</th>\n",
       "    </tr>\n",
       "  </thead>\n",
       "  <tbody>\n",
       "    <tr>\n",
       "      <th>24975</th>\n",
       "      <td>data/dogs/dog.9316.jpg</td>\n",
       "      <td>dogs</td>\n",
       "      <td>[-0.007655435241758823, 0.3041452467441559, 0....</td>\n",
       "    </tr>\n",
       "    <tr>\n",
       "      <th>24976</th>\n",
       "      <td>data/dogs/dog.6025.jpg</td>\n",
       "      <td>dogs</td>\n",
       "      <td>[0.12140308320522308, 0.28480660915374756, 0.0...</td>\n",
       "    </tr>\n",
       "    <tr>\n",
       "      <th>24977</th>\n",
       "      <td>data/dogs/dog.8008.jpg</td>\n",
       "      <td>dogs</td>\n",
       "      <td>[0.2268548309803009, 0.021711133420467377, -0....</td>\n",
       "    </tr>\n",
       "    <tr>\n",
       "      <th>24978</th>\n",
       "      <td>data/dogs/dog.1992.jpg</td>\n",
       "      <td>dogs</td>\n",
       "      <td>[0.0660947933793068, -0.3919999301433563, 0.12...</td>\n",
       "    </tr>\n",
       "    <tr>\n",
       "      <th>24979</th>\n",
       "      <td>data/dogs/dog.12412.jpg</td>\n",
       "      <td>dogs</td>\n",
       "      <td>[-0.18819163739681244, -0.33489400148391724, -...</td>\n",
       "    </tr>\n",
       "  </tbody>\n",
       "</table>\n",
       "</div>"
      ],
      "text/plain": [
       "                      filepath target  \\\n",
       "24975   data/dogs/dog.9316.jpg   dogs   \n",
       "24976   data/dogs/dog.6025.jpg   dogs   \n",
       "24977   data/dogs/dog.8008.jpg   dogs   \n",
       "24978   data/dogs/dog.1992.jpg   dogs   \n",
       "24979  data/dogs/dog.12412.jpg   dogs   \n",
       "\n",
       "                                         image_embedding  \n",
       "24975  [-0.007655435241758823, 0.3041452467441559, 0....  \n",
       "24976  [0.12140308320522308, 0.28480660915374756, 0.0...  \n",
       "24977  [0.2268548309803009, 0.021711133420467377, -0....  \n",
       "24978  [0.0660947933793068, -0.3919999301433563, 0.12...  \n",
       "24979  [-0.18819163739681244, -0.33489400148391724, -...  "
      ]
     },
     "execution_count": 33,
     "metadata": {},
     "output_type": "execute_result"
    }
   ],
   "source": [
    "df.tail()"
   ]
  },
  {
   "cell_type": "markdown",
   "id": "14e6b9f1-1ea3-46f7-988d-a99358a44b7c",
   "metadata": {},
   "source": [
    "### Save the new dataframe with the embeddings"
   ]
  },
  {
   "cell_type": "code",
   "execution_count": 34,
   "id": "805d0cb7-9e4a-4b8e-9e16-d678ced495c9",
   "metadata": {},
   "outputs": [],
   "source": [
    "df.to_csv(\"preprocessed_data/image_embeddings.csv\", index=False)"
   ]
  },
  {
   "cell_type": "markdown",
   "id": "aef32906-7937-4111-9108-b567ae0cc06b",
   "metadata": {},
   "source": [
    "## Image Embeddings DataSet\n",
    "\n",
    "The image embeddings dataset can not be loaded and used for training machine learning models.\n",
    "\n",
    "The Features will be the image_embedding column and the target with be the target column"
   ]
  },
  {
   "cell_type": "code",
   "execution_count": null,
   "id": "15161f09-980c-487d-8f9b-3b75c64f2e7f",
   "metadata": {},
   "outputs": [],
   "source": []
  }
 ],
 "metadata": {
  "kernelspec": {
   "display_name": "Python 3 (ipykernel)",
   "language": "python",
   "name": "python3"
  },
  "language_info": {
   "codemirror_mode": {
    "name": "ipython",
    "version": 3
   },
   "file_extension": ".py",
   "mimetype": "text/x-python",
   "name": "python",
   "nbconvert_exporter": "python",
   "pygments_lexer": "ipython3",
   "version": "3.11.3"
  }
 },
 "nbformat": 4,
 "nbformat_minor": 5
}
