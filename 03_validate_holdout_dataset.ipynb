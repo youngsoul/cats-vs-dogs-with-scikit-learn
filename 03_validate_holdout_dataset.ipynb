{
 "cells": [
  {
   "cell_type": "markdown",
   "id": "a2a2dc31-4408-47a8-badc-e0cfb40062e8",
   "metadata": {},
   "source": [
    "# Validate the holdout image dataset"
   ]
  },
  {
   "cell_type": "code",
   "execution_count": 15,
   "id": "e92285f5-4cfa-4174-87a3-ac5c1266fb57",
   "metadata": {
    "ExecuteTime": {
     "end_time": "2025-05-22T01:03:32.132535Z",
     "start_time": "2025-05-22T01:03:29.780433Z"
    }
   },
   "outputs": [],
   "source": [
    "from embetter.vision import ImageLoader\n",
    "from embetter.multi import ClipEncoder\n",
    "from embetter.grab import ColumnGrabber\n",
    "\n",
    "from sklearn.pipeline import make_pipeline\n",
    "from sklearn.metrics import accuracy_score\n",
    "\n",
    "import pandas as pd\n",
    "from pathlib import Path\n",
    "from joblib import load"
   ]
  },
  {
   "cell_type": "code",
   "execution_count": 16,
   "id": "7dd830a3-a67b-458a-9162-1f2d9bb1b275",
   "metadata": {},
   "outputs": [],
   "source": [
    "dirs = ['cats', 'dogs']\n",
    "\n",
    "# root_dir = '/Users/patrickryan/Development/machinelearning/scikit-learn/cats-vs-dogs-with-scikit-learn'\n",
    "\n",
    "\n",
    "root_dir = '/Volumes/TheVault/ml_datasets/kaggle/cats-vs-dogs'"
   ]
  },
  {
   "cell_type": "code",
   "execution_count": 17,
   "id": "78d5db64-255f-46e9-8a6f-d36f56a349b8",
   "metadata": {
    "ExecuteTime": {
     "end_time": "2025-05-22T01:03:32.211213Z",
     "start_time": "2025-05-22T01:03:32.209211Z"
    }
   },
   "outputs": [],
   "source": [
    "def create_filepaths_df(dir_name:str) -> pd.DataFrame:\n",
    "    \n",
    "    data = []\n",
    "    for dir in dirs:\n",
    "        for file in Path(f'{root_dir}/{dir_name}/{dir}').glob('*.jpg'):\n",
    "            row_data = {\n",
    "                'filepath': file,\n",
    "                'target': dir\n",
    "            }\n",
    "            data.append(row_data)\n",
    "    files_df = pd.DataFrame(data, columns=[\"filepath\", \"target\"])\n",
    "    return files_df\n"
   ]
  },
  {
   "cell_type": "code",
   "execution_count": 18,
   "id": "45978090-ac26-42fc-bb0f-001ba8ad0d17",
   "metadata": {
    "ExecuteTime": {
     "end_time": "2025-05-22T01:03:33.181046Z",
     "start_time": "2025-05-22T01:03:32.218799Z"
    }
   },
   "outputs": [],
   "source": [
    "image_embedding_pipeline = make_pipeline(\n",
    "   ColumnGrabber(\"filepath\"),\n",
    "  ImageLoader(convert=\"RGB\"),\n",
    "  ClipEncoder(),\n",
    ")"
   ]
  },
  {
   "cell_type": "code",
   "execution_count": 19,
   "id": "3376ce83-c6fc-4823-8f60-c7a23cebff13",
   "metadata": {
    "ExecuteTime": {
     "end_time": "2025-05-22T01:03:33.193249Z",
     "start_time": "2025-05-22T01:03:33.190395Z"
    }
   },
   "outputs": [],
   "source": [
    "holdout_files_df = create_filepaths_df(dir_name=\"holdout\")\n"
   ]
  },
  {
   "cell_type": "code",
   "execution_count": 20,
   "id": "217ebe17-2f84-4f43-918b-49cb22799a09",
   "metadata": {
    "ExecuteTime": {
     "end_time": "2025-05-22T01:03:33.205825Z",
     "start_time": "2025-05-22T01:03:33.201172Z"
    }
   },
   "outputs": [
    {
     "data": {
      "text/html": [
       "<div>\n",
       "<style scoped>\n",
       "    .dataframe tbody tr th:only-of-type {\n",
       "        vertical-align: middle;\n",
       "    }\n",
       "\n",
       "    .dataframe tbody tr th {\n",
       "        vertical-align: top;\n",
       "    }\n",
       "\n",
       "    .dataframe thead th {\n",
       "        text-align: right;\n",
       "    }\n",
       "</style>\n",
       "<table border=\"1\" class=\"dataframe\">\n",
       "  <thead>\n",
       "    <tr style=\"text-align: right;\">\n",
       "      <th></th>\n",
       "      <th>filepath</th>\n",
       "      <th>target</th>\n",
       "    </tr>\n",
       "  </thead>\n",
       "  <tbody>\n",
       "    <tr>\n",
       "      <th>0</th>\n",
       "      <td>/Volumes/TheVault/ml_datasets/kaggle/cats-vs-d...</td>\n",
       "      <td>cats</td>\n",
       "    </tr>\n",
       "    <tr>\n",
       "      <th>1</th>\n",
       "      <td>/Volumes/TheVault/ml_datasets/kaggle/cats-vs-d...</td>\n",
       "      <td>cats</td>\n",
       "    </tr>\n",
       "    <tr>\n",
       "      <th>2</th>\n",
       "      <td>/Volumes/TheVault/ml_datasets/kaggle/cats-vs-d...</td>\n",
       "      <td>cats</td>\n",
       "    </tr>\n",
       "    <tr>\n",
       "      <th>3</th>\n",
       "      <td>/Volumes/TheVault/ml_datasets/kaggle/cats-vs-d...</td>\n",
       "      <td>cats</td>\n",
       "    </tr>\n",
       "    <tr>\n",
       "      <th>4</th>\n",
       "      <td>/Volumes/TheVault/ml_datasets/kaggle/cats-vs-d...</td>\n",
       "      <td>cats</td>\n",
       "    </tr>\n",
       "  </tbody>\n",
       "</table>\n",
       "</div>"
      ],
      "text/plain": [
       "                                            filepath target\n",
       "0  /Volumes/TheVault/ml_datasets/kaggle/cats-vs-d...   cats\n",
       "1  /Volumes/TheVault/ml_datasets/kaggle/cats-vs-d...   cats\n",
       "2  /Volumes/TheVault/ml_datasets/kaggle/cats-vs-d...   cats\n",
       "3  /Volumes/TheVault/ml_datasets/kaggle/cats-vs-d...   cats\n",
       "4  /Volumes/TheVault/ml_datasets/kaggle/cats-vs-d...   cats"
      ]
     },
     "execution_count": 20,
     "metadata": {},
     "output_type": "execute_result"
    }
   ],
   "source": [
    "holdout_files_df.head()"
   ]
  },
  {
   "cell_type": "code",
   "execution_count": 21,
   "id": "a5266e33-9df9-43f7-aed2-c263b7f4a68d",
   "metadata": {
    "ExecuteTime": {
     "end_time": "2025-05-22T01:03:33.480542Z",
     "start_time": "2025-05-22T01:03:33.247795Z"
    }
   },
   "outputs": [
    {
     "name": "stdout",
     "output_type": "stream",
     "text": [
      "CPU times: user 145 ms, sys: 91.2 ms, total: 237 ms\n",
      "Wall time: 779 ms\n"
     ]
    }
   ],
   "source": [
    "%%time\n",
    "\n",
    "X = image_embedding_pipeline.fit_transform(holdout_files_df)"
   ]
  },
  {
   "cell_type": "code",
   "execution_count": 22,
   "id": "3ad66112-eccd-4c23-b88f-b6924bf921ce",
   "metadata": {
    "ExecuteTime": {
     "end_time": "2025-05-22T01:03:33.503778Z",
     "start_time": "2025-05-22T01:03:33.502203Z"
    }
   },
   "outputs": [],
   "source": [
    "y = holdout_files_df['target']"
   ]
  },
  {
   "cell_type": "code",
   "execution_count": 23,
   "id": "38c06bf7-0a05-4b17-be5e-bab54e2423b7",
   "metadata": {
    "ExecuteTime": {
     "end_time": "2025-05-22T01:03:33.544414Z",
     "start_time": "2025-05-22T01:03:33.513287Z"
    }
   },
   "outputs": [],
   "source": [
    "model = load(f\"{root_dir}/models/log_regression_baseline.joblib\")"
   ]
  },
  {
   "cell_type": "code",
   "execution_count": 24,
   "id": "2e3cd698-31f6-45e1-a4c3-5b1cc01abf14",
   "metadata": {
    "ExecuteTime": {
     "end_time": "2025-05-22T01:03:33.553605Z",
     "start_time": "2025-05-22T01:03:33.551900Z"
    }
   },
   "outputs": [],
   "source": [
    "y_pred = model.predict(X)"
   ]
  },
  {
   "cell_type": "code",
   "execution_count": 25,
   "id": "fa1f475f-83a3-45a9-9fd9-1ee59a21aae1",
   "metadata": {
    "ExecuteTime": {
     "end_time": "2025-05-22T01:03:33.566193Z",
     "start_time": "2025-05-22T01:03:33.563419Z"
    }
   },
   "outputs": [
    {
     "data": {
      "text/plain": [
       "array(['cats', 'cats', 'cats', 'cats', 'cats', 'cats', 'cats', 'cats',\n",
       "       'cats', 'cats', 'cats', 'cats', 'cats', 'dogs', 'dogs', 'dogs',\n",
       "       'dogs', 'dogs', 'dogs', 'dogs', 'dogs', 'dogs', 'dogs', 'dogs',\n",
       "       'dogs', 'dogs', 'dogs', 'dogs', 'dogs', 'dogs', 'dogs', 'dogs',\n",
       "       'dogs'], dtype=object)"
      ]
     },
     "execution_count": 25,
     "metadata": {},
     "output_type": "execute_result"
    }
   ],
   "source": [
    "y_pred"
   ]
  },
  {
   "cell_type": "code",
   "execution_count": 26,
   "id": "6327f67e-9ecc-4312-bc4d-5337e872b3fe",
   "metadata": {
    "ExecuteTime": {
     "end_time": "2025-05-22T01:03:33.579056Z",
     "start_time": "2025-05-22T01:03:33.576775Z"
    }
   },
   "outputs": [
    {
     "data": {
      "text/plain": [
       "0     cats\n",
       "1     cats\n",
       "2     cats\n",
       "3     cats\n",
       "4     cats\n",
       "5     cats\n",
       "6     cats\n",
       "7     cats\n",
       "8     cats\n",
       "9     cats\n",
       "10    cats\n",
       "11    cats\n",
       "12    cats\n",
       "13    dogs\n",
       "14    dogs\n",
       "15    dogs\n",
       "16    dogs\n",
       "17    dogs\n",
       "18    dogs\n",
       "19    dogs\n",
       "20    dogs\n",
       "21    dogs\n",
       "22    dogs\n",
       "23    dogs\n",
       "24    dogs\n",
       "25    dogs\n",
       "26    dogs\n",
       "27    dogs\n",
       "28    dogs\n",
       "29    dogs\n",
       "30    dogs\n",
       "31    dogs\n",
       "32    dogs\n",
       "Name: target, dtype: object"
      ]
     },
     "execution_count": 26,
     "metadata": {},
     "output_type": "execute_result"
    }
   ],
   "source": [
    "y"
   ]
  },
  {
   "cell_type": "code",
   "execution_count": 27,
   "id": "f79c0e89-76ba-4300-933a-3a2997b483ae",
   "metadata": {
    "ExecuteTime": {
     "end_time": "2025-05-22T01:03:33.619623Z",
     "start_time": "2025-05-22T01:03:33.617054Z"
    }
   },
   "outputs": [
    {
     "data": {
      "text/plain": [
       "1.0"
      ]
     },
     "execution_count": 27,
     "metadata": {},
     "output_type": "execute_result"
    }
   ],
   "source": [
    "accuracy_score(y, y_pred)"
   ]
  },
  {
   "cell_type": "code",
   "execution_count": null,
   "id": "3730f9e2-6f73-4a69-9238-8c96ad9d2402",
   "metadata": {
    "ExecuteTime": {
     "end_time": "2025-05-22T01:03:33.647092Z",
     "start_time": "2025-05-22T01:03:33.646007Z"
    }
   },
   "outputs": [],
   "source": []
  }
 ],
 "metadata": {
  "kernelspec": {
   "display_name": "Python 3 (ipykernel)",
   "language": "python",
   "name": "python3"
  },
  "language_info": {
   "codemirror_mode": {
    "name": "ipython",
    "version": 3
   },
   "file_extension": ".py",
   "mimetype": "text/x-python",
   "name": "python",
   "nbconvert_exporter": "python",
   "pygments_lexer": "ipython3",
   "version": "3.11.3"
  }
 },
 "nbformat": 4,
 "nbformat_minor": 5
}
