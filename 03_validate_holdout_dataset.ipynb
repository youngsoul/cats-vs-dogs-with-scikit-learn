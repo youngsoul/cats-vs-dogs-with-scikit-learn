{
 "cells": [
  {
   "cell_type": "markdown",
   "id": "a2a2dc31-4408-47a8-badc-e0cfb40062e8",
   "metadata": {},
   "source": [
    "# Validate the holdout image dataset"
   ]
  },
  {
   "cell_type": "code",
   "execution_count": 22,
   "id": "e92285f5-4cfa-4174-87a3-ac5c1266fb57",
   "metadata": {},
   "outputs": [],
   "source": [
    "from embetter.vision import ImageLoader\n",
    "from embetter.multi import ClipEncoder\n",
    "from embetter.grab import ColumnGrabber\n",
    "\n",
    "from sklearn.pipeline import make_pipeline\n",
    "from sklearn.metrics import accuracy_score\n",
    "\n",
    "import pandas as pd\n",
    "from pathlib import Path\n",
    "from joblib import load"
   ]
  },
  {
   "cell_type": "code",
   "execution_count": 4,
   "id": "78d5db64-255f-46e9-8a6f-d36f56a349b8",
   "metadata": {},
   "outputs": [],
   "source": [
    "def create_filepaths_df() -> pd.DataFrame:\n",
    "    dirs = ['cats', 'dogs']\n",
    "    data = []\n",
    "    for dir in dirs:\n",
    "        for file in Path(f'holdout_data/{dir}').glob('*.jpg'):\n",
    "            row_data = {\n",
    "                'filepath': file,\n",
    "                'target': dir\n",
    "            }\n",
    "            data.append(row_data)\n",
    "    files_df = pd.DataFrame(data, columns=[\"filepath\", \"target\"])\n",
    "    return files_df"
   ]
  },
  {
   "cell_type": "code",
   "execution_count": 9,
   "id": "45978090-ac26-42fc-bb0f-001ba8ad0d17",
   "metadata": {},
   "outputs": [],
   "source": [
    "image_embedding_pipeline = make_pipeline(\n",
    "   ColumnGrabber(\"filepath\"),\n",
    "  ImageLoader(convert=\"RGB\"),\n",
    "  ClipEncoder(),\n",
    ")"
   ]
  },
  {
   "cell_type": "code",
   "execution_count": 12,
   "id": "3376ce83-c6fc-4823-8f60-c7a23cebff13",
   "metadata": {},
   "outputs": [],
   "source": [
    "holdout_files_df = create_filepaths_df()\n"
   ]
  },
  {
   "cell_type": "code",
   "execution_count": 13,
   "id": "217ebe17-2f84-4f43-918b-49cb22799a09",
   "metadata": {},
   "outputs": [
    {
     "data": {
      "text/html": [
       "<div>\n",
       "<style scoped>\n",
       "    .dataframe tbody tr th:only-of-type {\n",
       "        vertical-align: middle;\n",
       "    }\n",
       "\n",
       "    .dataframe tbody tr th {\n",
       "        vertical-align: top;\n",
       "    }\n",
       "\n",
       "    .dataframe thead th {\n",
       "        text-align: right;\n",
       "    }\n",
       "</style>\n",
       "<table border=\"1\" class=\"dataframe\">\n",
       "  <thead>\n",
       "    <tr style=\"text-align: right;\">\n",
       "      <th></th>\n",
       "      <th>filepath</th>\n",
       "      <th>target</th>\n",
       "    </tr>\n",
       "  </thead>\n",
       "  <tbody>\n",
       "    <tr>\n",
       "      <th>0</th>\n",
       "      <td>holdout_data/cats/cat.6232.jpg</td>\n",
       "      <td>cats</td>\n",
       "    </tr>\n",
       "    <tr>\n",
       "      <th>1</th>\n",
       "      <td>holdout_data/cats/cat.46.jpg</td>\n",
       "      <td>cats</td>\n",
       "    </tr>\n",
       "    <tr>\n",
       "      <th>2</th>\n",
       "      <td>holdout_data/cats/cat.9589.jpg</td>\n",
       "      <td>cats</td>\n",
       "    </tr>\n",
       "    <tr>\n",
       "      <th>3</th>\n",
       "      <td>holdout_data/cats/cat.67.jpg</td>\n",
       "      <td>cats</td>\n",
       "    </tr>\n",
       "    <tr>\n",
       "      <th>4</th>\n",
       "      <td>holdout_data/cats/cat.9396.jpg</td>\n",
       "      <td>cats</td>\n",
       "    </tr>\n",
       "  </tbody>\n",
       "</table>\n",
       "</div>"
      ],
      "text/plain": [
       "                         filepath target\n",
       "0  holdout_data/cats/cat.6232.jpg   cats\n",
       "1    holdout_data/cats/cat.46.jpg   cats\n",
       "2  holdout_data/cats/cat.9589.jpg   cats\n",
       "3    holdout_data/cats/cat.67.jpg   cats\n",
       "4  holdout_data/cats/cat.9396.jpg   cats"
      ]
     },
     "execution_count": 13,
     "metadata": {},
     "output_type": "execute_result"
    }
   ],
   "source": [
    "holdout_files_df.head()"
   ]
  },
  {
   "cell_type": "code",
   "execution_count": 15,
   "id": "a5266e33-9df9-43f7-aed2-c263b7f4a68d",
   "metadata": {},
   "outputs": [
    {
     "name": "stdout",
     "output_type": "stream",
     "text": [
      "CPU times: user 134 ms, sys: 125 ms, total: 259 ms\n",
      "Wall time: 252 ms\n"
     ]
    }
   ],
   "source": [
    "%%time\n",
    "\n",
    "X = image_embedding_pipeline.fit_transform(holdout_files_df)"
   ]
  },
  {
   "cell_type": "code",
   "execution_count": 16,
   "id": "3ad66112-eccd-4c23-b88f-b6924bf921ce",
   "metadata": {},
   "outputs": [],
   "source": [
    "y = holdout_files_df['target']"
   ]
  },
  {
   "cell_type": "code",
   "execution_count": 18,
   "id": "38c06bf7-0a05-4b17-be5e-bab54e2423b7",
   "metadata": {},
   "outputs": [],
   "source": [
    "model = load(\"models/log_regression_baseline.joblib\")"
   ]
  },
  {
   "cell_type": "code",
   "execution_count": 19,
   "id": "2e3cd698-31f6-45e1-a4c3-5b1cc01abf14",
   "metadata": {},
   "outputs": [],
   "source": [
    "y_pred = model.predict(X)"
   ]
  },
  {
   "cell_type": "code",
   "execution_count": 20,
   "id": "fa1f475f-83a3-45a9-9fd9-1ee59a21aae1",
   "metadata": {},
   "outputs": [
    {
     "data": {
      "text/plain": [
       "array(['cats', 'cats', 'cats', 'cats', 'cats', 'cats', 'cats', 'cats',\n",
       "       'cats', 'cats', 'dogs', 'dogs', 'dogs', 'dogs', 'dogs', 'dogs',\n",
       "       'dogs', 'dogs', 'dogs', 'dogs'], dtype=object)"
      ]
     },
     "execution_count": 20,
     "metadata": {},
     "output_type": "execute_result"
    }
   ],
   "source": [
    "y_pred"
   ]
  },
  {
   "cell_type": "code",
   "execution_count": 21,
   "id": "6327f67e-9ecc-4312-bc4d-5337e872b3fe",
   "metadata": {},
   "outputs": [
    {
     "data": {
      "text/plain": [
       "0     cats\n",
       "1     cats\n",
       "2     cats\n",
       "3     cats\n",
       "4     cats\n",
       "5     cats\n",
       "6     cats\n",
       "7     cats\n",
       "8     cats\n",
       "9     cats\n",
       "10    dogs\n",
       "11    dogs\n",
       "12    dogs\n",
       "13    dogs\n",
       "14    dogs\n",
       "15    dogs\n",
       "16    dogs\n",
       "17    dogs\n",
       "18    dogs\n",
       "19    dogs\n",
       "Name: target, dtype: object"
      ]
     },
     "execution_count": 21,
     "metadata": {},
     "output_type": "execute_result"
    }
   ],
   "source": [
    "y"
   ]
  },
  {
   "cell_type": "code",
   "execution_count": 23,
   "id": "f79c0e89-76ba-4300-933a-3a2997b483ae",
   "metadata": {},
   "outputs": [
    {
     "data": {
      "text/plain": [
       "1.0"
      ]
     },
     "execution_count": 23,
     "metadata": {},
     "output_type": "execute_result"
    }
   ],
   "source": [
    "accuracy_score(y, y_pred)"
   ]
  },
  {
   "cell_type": "code",
   "execution_count": null,
   "id": "3730f9e2-6f73-4a69-9238-8c96ad9d2402",
   "metadata": {},
   "outputs": [],
   "source": []
  }
 ],
 "metadata": {
  "kernelspec": {
   "display_name": "Python 3 (ipykernel)",
   "language": "python",
   "name": "python3"
  },
  "language_info": {
   "codemirror_mode": {
    "name": "ipython",
    "version": 3
   },
   "file_extension": ".py",
   "mimetype": "text/x-python",
   "name": "python",
   "nbconvert_exporter": "python",
   "pygments_lexer": "ipython3",
   "version": "3.11.3"
  }
 },
 "nbformat": 4,
 "nbformat_minor": 5
}
